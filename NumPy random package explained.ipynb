{
 "cells": [
  {
   "cell_type": "code",
   "execution_count": 1,
   "metadata": {},
   "outputs": [],
   "source": [
    "# Import packages\n",
    "import numpy as np\n",
    "import matplotlib.pyplot as plt\n",
    "import math\n",
    "from decimal import *\n",
    "# create random number generator\n",
    "rng = np.random.default_rng()"
   ]
  },
  {
   "cell_type": "markdown",
   "metadata": {},
   "source": [
    "# Numpys Random Package explained\n",
    "\n",
    "## Introduction\n",
    "\n",
    "NumPys `random` package is used to create different distributions of numbers. By distribution I mean a group of numbers, which numpy produces as an `np.array`. These distributions take on different properties depending on what the user is looking for. You can create a distribution with a certain size (the amount of elements in a list), along with a number of parameters which can include (but are not limited to) a certain standard deviation (the value of the majority of numbers), the range (The max and min values of the numbers), the mean (the average number present).\n",
    "\n",
    "This notebook will explain the different parts of the package and hopefully give the reader an idea of how to use it for their own purposes. The first section are on the 4 simple random data functions. Next we'll look at the 2 permutation functions. Last of all we'll discuss 5 of the distributions available.\n",
    "\n",
    "## Simple random data\n",
    "\n",
    "Within the `random` you can use certain functions to create collections of numbers which are ... well simple when compared to the rest of the package. There are four in this category.\n",
    "\n",
    "### `random.integers()`\n",
    "\n",
    "The `integers` function has 5 parameters (or 'things' that effect the output). The only neccessary one is `low` the rest are optional. What this function does is gives you a random list of integers through a \"discrete uniform\" distribution. This is a fancy way of saying that the function will try to have (with some slight variance) the same quantity of each number in the list (see the first graph)[1]. This will make more sense when we actually look at the function.\n",
    "\n",
    "Parameters of the function:\n",
    "\n",
    "* `low`\n",
    "* `high`\n",
    "* `size`\n",
    "* `dtype`\n",
    "* `endpoint`\n",
    "\n",
    "Lets first take a look at the `low` parameter. In the documentaion [2] it explains that `low` can either be an integer or an array-like of integers (basically a list of integers). If we are not using the parameter `high`, which by default is set to `None`, then `low` determines the highest number in the output array. If `high` is set to a value then `low` is the lowest number in the output array and `high` becomes the number *one above the largest (signed) integer to be drawn from the distribution*. If no `size` is given one value is returned. You can set the type of output is returned with `dtype`, its default is np.int64 (this is NumPys integer from 0 to 18446744073709551615). Finally `endpoint` is either `True` or `False` if set to true it includes the number set for `high` in the distribution.\n",
    "\n",
    "**It easier to work through the code and see the output**:"
   ]
  },
  {
   "cell_type": "code",
   "execution_count": 2,
   "metadata": {},
   "outputs": [
    {
     "data": {
      "text/plain": [
       "0"
      ]
     },
     "execution_count": 2,
     "metadata": {},
     "output_type": "execute_result"
    }
   ],
   "source": [
    "rng.integers(low=10)"
   ]
  },
  {
   "cell_type": "markdown",
   "metadata": {},
   "source": [
    "I know what you're saying \"... great I get a number? What use is that to me?\" Well you really can't tell what it's doing until you add the `size` parameter. The `size` parameter is (no points for guessing) the size of the output array or the number of values in the output list."
   ]
  },
  {
   "cell_type": "code",
   "execution_count": 3,
   "metadata": {},
   "outputs": [
    {
     "data": {
      "text/plain": [
       "array([8, 9, 7, 9, 3, 7, 5, 2, 7, 0], dtype=int64)"
      ]
     },
     "execution_count": 3,
     "metadata": {},
     "output_type": "execute_result"
    }
   ],
   "source": [
    "rng.integers(low=10, size=10)"
   ]
  },
  {
   "cell_type": "markdown",
   "metadata": {},
   "source": [
    "So as you can see above I now have 10 elements in a numpy array. You'll also notice that not one element is greater then 10, which is what our `low` parameter is set to. If we have no `high` parameter the value given for `low` becomes our high value and the low is automatically 0. But if we set `high` to 8, `low` to 2 and `size` to 10 we should expect to see an output of an array of 10 values no smaller then 2 and no larger then 7 (it's up to but not including `high`)."
   ]
  },
  {
   "cell_type": "code",
   "execution_count": 4,
   "metadata": {},
   "outputs": [
    {
     "data": {
      "text/plain": [
       "array([4, 5, 4, 4, 5, 5, 6, 7, 3, 2], dtype=int64)"
      ]
     },
     "execution_count": 4,
     "metadata": {},
     "output_type": "execute_result"
    }
   ],
   "source": [
    "rng.integers(low=2, high=8, size=10)"
   ]
  },
  {
   "cell_type": "markdown",
   "metadata": {},
   "source": [
    "Which we do!"
   ]
  },
  {
   "cell_type": "markdown",
   "metadata": {},
   "source": [
    "If we get a large enough output size you can start to see the uniform distribution talked about above."
   ]
  },
  {
   "cell_type": "code",
   "execution_count": 5,
   "metadata": {},
   "outputs": [
    {
     "data": {
      "image/png": "[encoded data removed]",
      "text/plain": [
       "<Figure size 432x288 with 1 Axes>"
      ]
     },
     "metadata": {
      "needs_background": "light"
     },
     "output_type": "display_data"
    }
   ],
   "source": [
    "y = rng.integers(low=2, high=8, size=100000)\n",
    "plt.hist(y)\n",
    "plt.show()"
   ]
  },
  {
   "cell_type": "markdown",
   "metadata": {},
   "source": [
    "You can see that they are even across"
   ]
  },
  {
   "cell_type": "markdown",
   "metadata": {},
   "source": [
    "### `random.random()`\n",
    "\n",
    "If given no parameters it produces a random float with a possible range of 0 and up to but not including 1[3]."
   ]
  },
  {
   "cell_type": "code",
   "execution_count": 6,
   "metadata": {},
   "outputs": [
    {
     "data": {
      "text/plain": [
       "0.05860681798264056"
      ]
     },
     "execution_count": 6,
     "metadata": {},
     "output_type": "execute_result"
    }
   ],
   "source": [
    "rng.random()"
   ]
  },
  {
   "cell_type": "markdown",
   "metadata": {},
   "source": [
    "Parameters of the function:\n",
    "\n",
    "* `size`\n",
    "* `dtype`\n",
    "* `out`\n",
    "\n",
    "We can change this by using `size` to determine the shape which can be multi-dimensional."
   ]
  },
  {
   "cell_type": "code",
   "execution_count": 7,
   "metadata": {},
   "outputs": [
    {
     "data": {
      "text/plain": [
       "array([0.95966977, 0.33846193, 0.66718175, 0.32444805, 0.01628321])"
      ]
     },
     "execution_count": 7,
     "metadata": {},
     "output_type": "execute_result"
    }
   ],
   "source": [
    "rng.random(size = 5)"
   ]
  },
  {
   "cell_type": "code",
   "execution_count": 8,
   "metadata": {},
   "outputs": [
    {
     "data": {
      "text/plain": [
       "array([[0.75559946, 0.95530391],\n",
       "       [0.72802208, 0.76968219],\n",
       "       [0.05321613, 0.63887638],\n",
       "       [0.05763711, 0.42203012],\n",
       "       [0.94515402, 0.01566117]])"
      ]
     },
     "execution_count": 8,
     "metadata": {},
     "output_type": "execute_result"
    }
   ],
   "source": [
    "rng.random(size = (5,2))"
   ]
  },
  {
   "cell_type": "markdown",
   "metadata": {},
   "source": [
    "`dtype` again like `integers()` above allows you to set the type of the return. This time `random.random()` can only support float64 and float32 (its default is float64). "
   ]
  },
  {
   "cell_type": "code",
   "execution_count": 9,
   "metadata": {},
   "outputs": [
    {
     "data": {
      "text/plain": [
       "array([[0.776181  , 0.5004364 ],\n",
       "       [0.28849864, 0.25721657],\n",
       "       [0.19449675, 0.7524555 ],\n",
       "       [0.76315475, 0.6728445 ],\n",
       "       [0.9287114 , 0.6826557 ]], dtype=float32)"
      ]
     },
     "execution_count": 9,
     "metadata": {},
     "output_type": "execute_result"
    }
   ],
   "source": [
    "rng.random(size = (5,2), dtype = np.float32)"
   ]
  },
  {
   "cell_type": "markdown",
   "metadata": {},
   "source": [
    "`out` allows you to replace the elements in an array (of the same size as `size`):"
   ]
  },
  {
   "cell_type": "code",
   "execution_count": 10,
   "metadata": {},
   "outputs": [
    {
     "data": {
      "text/plain": [
       "array([0.7496845 , 0.35868743, 0.72028336, 0.60195323, 0.35664482])"
      ]
     },
     "execution_count": 10,
     "metadata": {},
     "output_type": "execute_result"
    }
   ],
   "source": [
    "ndarray = np.array([5.0, 4.0, 3.0, 2.0, 1.0])\n",
    "rng.random(size = 5, out= ndarray)\n",
    "ndarray"
   ]
  },
  {
   "cell_type": "markdown",
   "metadata": {},
   "source": [
    "### `random.choice()`\n",
    "\n",
    "Parameters of the function:\n",
    "\n",
    "* `a`\n",
    "* `replace`\n",
    "* `p`\n",
    "* `axis`\n",
    "* `shuffle`\n",
    "\n",
    "Lets say you want to simulate an event with equal likelihood (equal probability). Like rolling a die. If I set `a` to 7 it can simulate a fair roll (it uses np.arange(a) so it will noy include 7)."
   ]
  },
  {
   "cell_type": "code",
   "execution_count": 11,
   "metadata": {},
   "outputs": [
    {
     "data": {
      "text/plain": [
       "array([0, 1, 2, 3, 4, 5, 6])"
      ]
     },
     "execution_count": 11,
     "metadata": {},
     "output_type": "execute_result"
    }
   ],
   "source": [
    "np.arange(7)"
   ]
  },
  {
   "cell_type": "code",
   "execution_count": 12,
   "metadata": {
    "scrolled": true
   },
   "outputs": [
    {
     "data": {
      "text/plain": [
       "5"
      ]
     },
     "execution_count": 12,
     "metadata": {},
     "output_type": "execute_result"
    }
   ],
   "source": [
    "rng.choice(a = 7)"
   ]
  },
  {
   "cell_type": "markdown",
   "metadata": {},
   "source": [
    "You can also give it an ndarray it will choose from that array. If you keep unning the below cell you cannot get an output outside 2, 4, 6, 8, and 10."
   ]
  },
  {
   "cell_type": "code",
   "execution_count": 13,
   "metadata": {},
   "outputs": [
    {
     "data": {
      "text/plain": [
       "8"
      ]
     },
     "execution_count": 13,
     "metadata": {},
     "output_type": "execute_result"
    }
   ],
   "source": [
    "rng.choice(a = [2, 4, 6, 8, 10])"
   ]
  },
  {
   "cell_type": "markdown",
   "metadata": {},
   "source": [
    "`size` will allow you make multiple choices from `a`."
   ]
  },
  {
   "cell_type": "code",
   "execution_count": 14,
   "metadata": {},
   "outputs": [
    {
     "data": {
      "text/plain": [
       "array([10,  8,  6])"
      ]
     },
     "execution_count": 14,
     "metadata": {},
     "output_type": "execute_result"
    }
   ],
   "source": [
    "rng.choice(a = [2, 4, 6, 8, 10], size = 3)"
   ]
  },
  {
   "cell_type": "code",
   "execution_count": 15,
   "metadata": {},
   "outputs": [
    {
     "data": {
      "text/plain": [
       "array([[ 2, 10,  2, 10,  2],\n",
       "       [ 4,  8,  6,  8,  8],\n",
       "       [ 6,  6,  6,  2, 10]])"
      ]
     },
     "execution_count": 15,
     "metadata": {},
     "output_type": "execute_result"
    }
   ],
   "source": [
    "rng.choice(a = [2, 4, 6, 8, 10], size = (3, 5))"
   ]
  },
  {
   "cell_type": "markdown",
   "metadata": {},
   "source": [
    "`p` then allows you to set the probability of each element of `a`. For example we'll give 6 a probability of 0.6 and the rest 0.1. This means that when the function makes the decision it is 6 times more likely to be 6 then the other number (note: the sum of p must equal 1)."
   ]
  },
  {
   "cell_type": "code",
   "execution_count": 16,
   "metadata": {},
   "outputs": [
    {
     "data": {
      "text/plain": [
       "array([10,  6,  6,  2,  6,  6,  6,  6,  6,  4,  6,  6,  4,  6,  8,  6,  8,\n",
       "        6,  6,  6,  6,  6,  8,  6,  4,  6,  6,  6,  2, 10, 10,  6,  6,  6,\n",
       "        6,  8,  6,  2,  6,  4,  6,  6,  2,  6, 10,  6,  6,  4,  6,  6])"
      ]
     },
     "execution_count": 16,
     "metadata": {},
     "output_type": "execute_result"
    }
   ],
   "source": [
    "arr = rng.choice(a = [2, 4, 6, 8, 10], size = 50, p = [0.1, 0.1, 0.6, 0.1, 0.1])\n",
    "arr"
   ]
  },
  {
   "cell_type": "markdown",
   "metadata": {},
   "source": [
    "You can see below that 6 has far more then the rest what happens if we get a percentage of each value with respect to the size of the sample?"
   ]
  },
  {
   "cell_type": "code",
   "execution_count": 17,
   "metadata": {
    "scrolled": true
   },
   "outputs": [
    {
     "data": {
      "image/png": "[encoded data removed]",
      "text/plain": [
       "<Figure size 432x288 with 1 Axes>"
      ]
     },
     "metadata": {
      "needs_background": "light"
     },
     "output_type": "display_data"
    }
   ],
   "source": [
    "arr2 = rng.choice(a = [2, 4, 6, 8, 10], size = 100000, p = [0.1, 0.1, 0.6, 0.1, 0.1])\n",
    "plt.hist(arr2)\n",
    "plt.show()"
   ]
  },
  {
   "cell_type": "code",
   "execution_count": 18,
   "metadata": {},
   "outputs": [
    {
     "name": "stdout",
     "output_type": "stream",
     "text": [
      "The percentage 2 was chosen is 10.06 %\n",
      "The percentage 4 was chosen is 9.94 %\n",
      "The percentage 6 was chosen is 60.04 %\n",
      "The percentage 8 was chosen is 9.75 %\n",
      "The percentage 10 was chosen is 10.22 %\n"
     ]
    }
   ],
   "source": [
    "vals = [2, 4, 6, 8, 10]\n",
    "percents = []\n",
    "\n",
    "for i in range(len(vals)):\n",
    "    count = 0\n",
    "    for j in range(len(arr2)):\n",
    "        if arr2[j] == vals[i]:\n",
    "            count = count + 1\n",
    "    percents.append(count/100000 * 100)\n",
    "\n",
    "for x in range(len(vals)):\n",
    "    print(f\"The percentage {vals[x]} was chosen is {percents[x]:.2f} %\")"
   ]
  },
  {
   "cell_type": "markdown",
   "metadata": {},
   "source": [
    "You can see that 6 was very close to 60% which is what we set it to above. The reason for this little discrepency is that real world data will not be exact and this package was designed to simulate real world data.\n",
    "\n",
    "`axis` allows you choose from the within an array or across arrays. In other words you can choose across rows or columns. The default, 0, selects by row [4]."
   ]
  },
  {
   "cell_type": "code",
   "execution_count": 19,
   "metadata": {},
   "outputs": [
    {
     "data": {
      "text/plain": [
       "array([[2.1, 2.2, 2.3, 2.4],\n",
       "       [1.1, 1.2, 1.3, 1.4],\n",
       "       [4.1, 4.2, 4.3, 4.4],\n",
       "       [2.1, 2.2, 2.3, 2.4]])"
      ]
     },
     "execution_count": 19,
     "metadata": {},
     "output_type": "execute_result"
    }
   ],
   "source": [
    "arr3 = np.array([[1.1, 1.2, 1.3, 1.4],\n",
    "               [2.1, 2.2, 2.3, 2.4],\n",
    "               [3.1, 3.2, 3.3, 3.4],\n",
    "               [4.1, 4.2, 4.3, 4.4]])\n",
    "\n",
    "rng.choice(a = arr3, size = 4, axis = 0)"
   ]
  },
  {
   "cell_type": "code",
   "execution_count": 20,
   "metadata": {},
   "outputs": [
    {
     "data": {
      "text/plain": [
       "array([[1.2, 1.1, 1.2, 1.3],\n",
       "       [2.2, 2.1, 2.2, 2.3],\n",
       "       [3.2, 3.1, 3.2, 3.3],\n",
       "       [4.2, 4.1, 4.2, 4.3]])"
      ]
     },
     "execution_count": 20,
     "metadata": {},
     "output_type": "execute_result"
    }
   ],
   "source": [
    "rng.choice(a = arr3, size = 4, axis = 1)"
   ]
  },
  {
   "cell_type": "markdown",
   "metadata": {},
   "source": [
    "### `random.bytes()`\n",
    "\n",
    "Returns a random number of bytes of length `length`."
   ]
  },
  {
   "cell_type": "code",
   "execution_count": 22,
   "metadata": {},
   "outputs": [
    {
     "data": {
      "text/plain": [
       "b'|!f\\xbbZ\\x15X\\xa1G<'"
      ]
     },
     "execution_count": 22,
     "metadata": {},
     "output_type": "execute_result"
    }
   ],
   "source": [
    "rng.bytes(10)"
   ]
  },
  {
   "cell_type": "markdown",
   "metadata": {},
   "source": [
    "## Permutations\n",
    "\n",
    "Permutations are ways to order (or more accurately to remove order from) your data in an array. NumPy has two in its arsenal: `shuffle` and `permutation`. shuffle(x) can permute the elements in x randomly along the first axis. numpy. random. permutation(x) actually returns a new variable and the original data is not changed[5].\n",
    "\n",
    "### `random.shuffle()`\n",
    "\n",
    "Parameters of the function:\n",
    "\n",
    "* `x`\n",
    "* `axis`\n",
    "\n",
    "We'll start with `shuffle`. Lets say you have an array (or list) of numbers but you want them to be in random order then you can apply `shuffle` to it. Lets say we had an array with numbers from one to ten[6]."
   ]
  },
  {
   "cell_type": "code",
   "execution_count": 23,
   "metadata": {},
   "outputs": [
    {
     "data": {
      "text/plain": [
       "array([ 0,  1,  2,  3,  4,  5,  6,  7,  8,  9, 10])"
      ]
     },
     "execution_count": 23,
     "metadata": {},
     "output_type": "execute_result"
    }
   ],
   "source": [
    "arr4 = np.arange(11)\n",
    "arr4"
   ]
  },
  {
   "cell_type": "markdown",
   "metadata": {},
   "source": [
    "to shuffle them we set the array to `x` in `shuffle`:"
   ]
  },
  {
   "cell_type": "code",
   "execution_count": 24,
   "metadata": {},
   "outputs": [
    {
     "data": {
      "text/plain": [
       "array([ 1,  0,  3,  8,  9,  5, 10,  4,  6,  7,  2])"
      ]
     },
     "execution_count": 24,
     "metadata": {},
     "output_type": "execute_result"
    }
   ],
   "source": [
    "rng.shuffle(x = arr4)\n",
    "arr4"
   ]
  },
  {
   "cell_type": "markdown",
   "metadata": {},
   "source": [
    "If you want to shuffle the arrays around inside an array we can choose the `axis`. First we'll build our multidimensional array."
   ]
  },
  {
   "cell_type": "code",
   "execution_count": 25,
   "metadata": {},
   "outputs": [],
   "source": [
    "arr5 = np.array([[1, 2, 3],\n",
    "               [4, 5, 6],\n",
    "               [7, 8, 9]])"
   ]
  },
  {
   "cell_type": "markdown",
   "metadata": {},
   "source": [
    "Then we'll shuffle it with 0 (the default)"
   ]
  },
  {
   "cell_type": "code",
   "execution_count": 26,
   "metadata": {
    "scrolled": true
   },
   "outputs": [
    {
     "data": {
      "text/plain": [
       "array([[4, 5, 6],\n",
       "       [1, 2, 3],\n",
       "       [7, 8, 9]])"
      ]
     },
     "execution_count": 26,
     "metadata": {},
     "output_type": "execute_result"
    }
   ],
   "source": [
    "rng.shuffle(x = arr5, axis = 0)\n",
    "arr5"
   ]
  },
  {
   "cell_type": "markdown",
   "metadata": {},
   "source": [
    "Then with 1:"
   ]
  },
  {
   "cell_type": "code",
   "execution_count": 27,
   "metadata": {},
   "outputs": [
    {
     "data": {
      "text/plain": [
       "array([[4, 5, 6],\n",
       "       [1, 2, 3],\n",
       "       [7, 8, 9]])"
      ]
     },
     "execution_count": 27,
     "metadata": {},
     "output_type": "execute_result"
    }
   ],
   "source": [
    "rng.shuffle(x = arr5, axis = 1)\n",
    "arr5"
   ]
  },
  {
   "cell_type": "markdown",
   "metadata": {},
   "source": [
    "### `random.permutation()`\n",
    "\n",
    "Parameters of the function:\n",
    "\n",
    "* `x`\n",
    "* `axis`\n",
    "\n",
    "`x` can either be an integer or an array (or list). If an integer is used np.arange(x) is used as `x`. "
   ]
  },
  {
   "cell_type": "code",
   "execution_count": 28,
   "metadata": {},
   "outputs": [
    {
     "data": {
      "text/plain": [
       "array([1, 5, 3, 4, 0, 2])"
      ]
     },
     "execution_count": 28,
     "metadata": {},
     "output_type": "execute_result"
    }
   ],
   "source": [
    "arr6 = rng.permutation(x = 6)\n",
    "arr6"
   ]
  },
  {
   "cell_type": "markdown",
   "metadata": {},
   "source": [
    "Like `shuffle` (see above) you can preform `permutation` on a multi dimensional array with `axis` (again 0 is the default)."
   ]
  },
  {
   "cell_type": "code",
   "execution_count": 29,
   "metadata": {},
   "outputs": [],
   "source": [
    "arr7 = np.array([\n",
    "    [1, 2, 3, 4],\n",
    "    [5, 6, 7, 8],\n",
    "    [9, 10, 11, 12]\n",
    "])"
   ]
  },
  {
   "cell_type": "code",
   "execution_count": 30,
   "metadata": {
    "scrolled": true
   },
   "outputs": [
    {
     "data": {
      "text/plain": [
       "array([[ 9, 10, 11, 12],\n",
       "       [ 5,  6,  7,  8],\n",
       "       [ 1,  2,  3,  4]])"
      ]
     },
     "execution_count": 30,
     "metadata": {},
     "output_type": "execute_result"
    }
   ],
   "source": [
    "rng.permutation(arr7, axis = 0)"
   ]
  },
  {
   "cell_type": "code",
   "execution_count": 31,
   "metadata": {},
   "outputs": [
    {
     "data": {
      "text/plain": [
       "array([[ 3,  2,  4,  1],\n",
       "       [ 7,  6,  8,  5],\n",
       "       [11, 10, 12,  9]])"
      ]
     },
     "execution_count": 31,
     "metadata": {},
     "output_type": "execute_result"
    }
   ],
   "source": [
    "rng.permutation(arr7, axis = 1)"
   ]
  },
  {
   "cell_type": "markdown",
   "metadata": {},
   "source": [
    "## Distributions\n",
    "\n",
    "Certain data sets taken from the real world follow certain rules to a certain extent.\n",
    "\n",
    "### `random.binomial()`\n",
    "\n",
    "There are pre-requites that a binomial distribution must have:\n",
    "1. There are only two potential outcomes per trial.\n",
    "2. The probability of success (p) is the same across all trials.\n",
    "3. The number of trials (n) is fixed.\n",
    "4. Each trial is independent.\n",
    "\n",
    "Lets take an example [7]. Lets say we have a class of 14 students and each student has the probability of 0.6 for passing the class. Well there are two possible outcomes: pass or fail. So that's pre-requite number 1 out of the way. The probability of each student passing is the same, the number of students is the same throughout and whether or not a student passes does not rely on the others passing or failing (unless they cheat but we'll assume we've honest students in our school). So we have an example that covers the criteria for a binomial distribution.\n",
    "\n",
    "\"But Seán..\" I hear you say \"what good is this information if we don't know how to use it?\" Great inquisitve question! Lets get stuck in. Here is the formula to calculate all the possible outcomes of a binomial distribution [8]:\n",
    "\n",
    "$$ P(X = x) = \\binom{n}{x}p^{x}(1-p)^{n-x} $$\n",
    "\n",
    "This can be read as: The probability that x amount of trails are successful\n",
    "\n",
    "$$ P(X = x) $$\n",
    "\n",
    "is equal to the the number of ways you can have x number of successes out of n trials\n",
    "\n",
    "$$ = \\binom{n}{x} $$\n",
    "\n",
    "Note (we will need this for our calculation below): \n",
    "\n",
    "$$ \\binom{n}{x} = \\frac{n!}{(n-x)!x!} $$\n",
    "\n",
    "multiplied by the probability of success (p) to the power of the number of successes (x)\n",
    "\n",
    "$$ p^{x} $$\n",
    "\n",
    "muliplies by the probability of failure (1-p) to the power of the number of failures (n-x)\n",
    "\n",
    "$$ (1-p)^{n-x} $$\n",
    "\n",
    "So in our example above the number of \"trials\" (n) are the tests our students take so 14 (because there are 14 students). The probability of success (p) for each student is given as 0.6. Lastly we need to choose our x, the number of successful trials we want the probability of we'll see how what it is for the case if half our students pass so x is 7. We can now use the formula to find the probability:"
   ]
  },
  {
   "cell_type": "code",
   "execution_count": 32,
   "metadata": {},
   "outputs": [],
   "source": [
    "x = 7\n",
    "n = 14\n",
    "p = 0.6\n",
    "# combination\n",
    "com = math.factorial(n)/(math.factorial(n-x)*math.factorial(x))\n",
    "\n",
    "P = com*(p**x)*((1-p)**(n-x))"
   ]
  },
  {
   "cell_type": "code",
   "execution_count": 33,
   "metadata": {},
   "outputs": [
    {
     "data": {
      "text/plain": [
       "0.15740769927168002"
      ]
     },
     "execution_count": 33,
     "metadata": {},
     "output_type": "execute_result"
    }
   ],
   "source": [
    "P"
   ]
  },
  {
   "cell_type": "markdown",
   "metadata": {},
   "source": [
    "This is the probability of number of trial successes but what we are looking for is a distribution. This distribution shows the probability for each possible outcome (i.e. from the probability of one successful trial to them all being successful). By turning our code above into a loop we can output this full distribution."
   ]
  },
  {
   "cell_type": "code",
   "execution_count": 34,
   "metadata": {},
   "outputs": [],
   "source": [
    "def binomialProbabilities(n, p):\n",
    "    probDistribution = []\n",
    "    for x in range(0, n+1):\n",
    "        com = math.factorial(n)/(math.factorial(n-x)*math.factorial(x))\n",
    "        P = com*(p**x)*((1-p)**(n-x))\n",
    "        probDistribution.append(P)\n",
    "        \n",
    "    return probDistribution"
   ]
  },
  {
   "cell_type": "code",
   "execution_count": 35,
   "metadata": {
    "scrolled": false
   },
   "outputs": [
    {
     "data": {
      "text/plain": [
       "[2.684354560000002e-06,\n",
       " 5.637144576000004e-05,\n",
       " 0.0005496215961600003,\n",
       " 0.0032977295769600016,\n",
       " 0.013603134504960007,\n",
       " 0.040809403514880015,\n",
       " 0.09182115790848003,\n",
       " 0.15740769927168002,\n",
       " 0.20659760529408,\n",
       " 0.20659760529408,\n",
       " 0.15494820397055997,\n",
       " 0.08451720216575999,\n",
       " 0.03169395081215999,\n",
       " 0.007313988648959996,\n",
       " 0.0007836416409599996]"
      ]
     },
     "execution_count": 35,
     "metadata": {},
     "output_type": "execute_result"
    }
   ],
   "source": [
    "binomialProbabilities(14, 0.6)"
   ]
  },
  {
   "cell_type": "markdown",
   "metadata": {},
   "source": [
    "The parameters of numpys `binomial()` function are the number of experiments `size`, the numbers of trials `n` in each experiment and the probability of success `p`. What the function does is uses the above probability formula to produce numbers that match the probability distribution. So lets say you ran the `binomial` function with the `n` and `p` above 100,000 times. This will produce an array with simulated data of the number of successful trials for each of the 100,000 experiments.\n",
    "\n",
    "In theory if we were to view the distribution of our experiments and the distribution of the probability they should look similar."
   ]
  },
  {
   "cell_type": "code",
   "execution_count": 36,
   "metadata": {},
   "outputs": [],
   "source": [
    "number_of_successes = rng.binomial(14, 0.6, 100000)"
   ]
  },
  {
   "cell_type": "code",
   "execution_count": 37,
   "metadata": {},
   "outputs": [
    {
     "data": {
      "text/plain": [
       "<function matplotlib.pyplot.show(*args, **kw)>"
      ]
     },
     "execution_count": 37,
     "metadata": {},
     "output_type": "execute_result"
    },
    {
     "data": {
      "image/png": "[encoded data removed]",
      "text/plain": [
       "<Figure size 432x288 with 1 Axes>"
      ]
     },
     "metadata": {
      "needs_background": "light"
     },
     "output_type": "display_data"
    }
   ],
   "source": [
    "plt.hist(number_of_successes, 14)\n",
    "plt.show"
   ]
  },
  {
   "cell_type": "code",
   "execution_count": 38,
   "metadata": {},
   "outputs": [],
   "source": [
    "probabilities = binomialProbabilities(14, 0.6)"
   ]
  },
  {
   "cell_type": "code",
   "execution_count": 39,
   "metadata": {},
   "outputs": [
    {
     "data": {
      "text/plain": [
       "[<matplotlib.lines.Line2D at 0x1c6503aeac0>]"
      ]
     },
     "execution_count": 39,
     "metadata": {},
     "output_type": "execute_result"
    },
    {
     "data": {
      "image/png": "[encoded data removed]",
      "text/plain": [
       "<Figure size 432x288 with 1 Axes>"
      ]
     },
     "metadata": {
      "needs_background": "light"
     },
     "output_type": "display_data"
    }
   ],
   "source": [
    "plt.plot(np.arange(15) ,probabilities)"
   ]
  },
  {
   "cell_type": "markdown",
   "metadata": {},
   "source": [
    "And what do you know! It does."
   ]
  },
  {
   "cell_type": "markdown",
   "metadata": {},
   "source": [
    "### `random.poisson()`\n",
    "\n",
    "The poisson distribution is discrete which means it can only contain a discrete set of values. The distribution describes the number of events occurring in a fixed time interval or region of opportunity. For example how many customers a shop gets every hour. In this example there is a fixed time interval of an hour and this distribution might discribe the number of events in that hour.[9]\n",
    "\n",
    "This distribution requires only one parameter, $ \\lambda $ (the poisson distribution), which is the expected number of events per time interval. This can also be looked as the mean number of events per time interval. It is also bounded by zero and infinety, [0, $ \\infty $),\n",
    "\n",
    "Assumptions:\n",
    "1. The rate at which events occur is constant (i.e. that in a given time interval the probability of an event happening should be the exact same as every other time interval of that size).\n",
    "2. The occurrence of one event does not affect the occurrence of a subsequent event (i.e. events are independent).\n",
    "\n",
    "The probability mass function is the formula used to determine the probability that a certain number of events ($ x $) will happen in a time interval with the poisson distribution ($ \\lambda $). It is give as:\n",
    "\n",
    "$$ P(X=x) = \\frac{e^{-\\lambda} \\lambda^x}{x!} $$\n",
    "\n",
    "So given our shop example if we wanted to find the probability of a shop getting 5 customers when the shop gets an average of 3 customers per hour (our time interval for this example). Then the Probability can be worked out by plugging in our values:\n",
    "\n",
    "$$ P(X=5) = \\frac{e^{-3} 3^5}{5!} $$\n",
    "\n",
    "Which can worked out as:\n",
    "\n",
    "$$ P(X=x) = 0.101 $$\n",
    "\n",
    "We can also work it out with Python."
   ]
  },
  {
   "cell_type": "code",
   "execution_count": 40,
   "metadata": {},
   "outputs": [
    {
     "data": {
      "text/plain": [
       "0.10081881344492448"
      ]
     },
     "execution_count": 40,
     "metadata": {},
     "output_type": "execute_result"
    }
   ],
   "source": [
    "lam = 3\n",
    "x = 5\n",
    "\n",
    "poissonP = (math.exp(-lam)*(lam**x))/(math.factorial(x))\n",
    "poissonP"
   ]
  },
  {
   "cell_type": "markdown",
   "metadata": {},
   "source": [
    "Like above we are looking for a distribution. By looping over the equation above we can find the probability for each possible outcome"
   ]
  },
  {
   "cell_type": "code",
   "execution_count": 41,
   "metadata": {},
   "outputs": [
    {
     "data": {
      "text/plain": [
       "array([], dtype=float64)"
      ]
     },
     "execution_count": 41,
     "metadata": {},
     "output_type": "execute_result"
    }
   ],
   "source": [
    "probDistribution = np.array([])\n",
    "np.append(probDistribution, np.float(3.567))\n",
    "probDistribution"
   ]
  },
  {
   "cell_type": "code",
   "execution_count": 42,
   "metadata": {},
   "outputs": [
    {
     "data": {
      "text/plain": [
       "[<matplotlib.lines.Line2D at 0x1c650405df0>]"
      ]
     },
     "execution_count": 42,
     "metadata": {},
     "output_type": "execute_result"
    },
    {
     "data": {
      "image/png": "[encoded data removed]",
      "text/plain": [
       "<Figure size 432x288 with 1 Axes>"
      ]
     },
     "metadata": {
      "needs_background": "light"
     },
     "output_type": "display_data"
    }
   ],
   "source": [
    "def poissonProbability(lam):\n",
    "    probDistribution = []\n",
    "    poissonP = 0\n",
    "    for x in range(14):\n",
    "        poissonP = math.exp(-lam)*(lam**x)/math.factorial(x)\n",
    "        probDistribution.append(poissonP)\n",
    "        \n",
    "    return probDistribution\n",
    "\n",
    "\n",
    "plt.plot(poissonProbability(3))"
   ]
  },
  {
   "cell_type": "code",
   "execution_count": 43,
   "metadata": {
    "scrolled": true
   },
   "outputs": [
    {
     "data": {
      "image/png": "[encoded data removed]",
      "text/plain": [
       "<Figure size 432x288 with 1 Axes>"
      ]
     },
     "metadata": {
      "needs_background": "light"
     },
     "output_type": "display_data"
    }
   ],
   "source": [
    "plt.hist(rng.poisson(3,1000000),16)\n",
    "plt.show()"
   ]
  },
  {
   "cell_type": "markdown",
   "metadata": {},
   "source": [
    "We can see from the first graph that the probability of getting 3 customers per hour is above a probability of 0.20 and that to either side of that it becomes less and less likely to get the number of customers per hour. The second graph shows the same thing only with actual events. We can see that there are over 200,000 times when 3 customers entered our store."
   ]
  },
  {
   "cell_type": "markdown",
   "metadata": {},
   "source": [
    "### `random.exponential()`\n",
    "\n",
    "A distribution must have a few requirements to be considered a exponential distribution.\n",
    "\n",
    "The first being that an exponential distribution is actually the time between events in a Poisson process (i.e. the \"inverse\" of Poisson, check the previous distribution). \n",
    "\n",
    "For example:\n",
    "\n",
    "| Poisson | Exponential |\n",
    "|:-:|:-:|\n",
    "| number of cars passing a tollgate in one hour | Number of hours between arrivals |\n",
    "|   cars per hour | hours per car |\n",
    "|   number of customers arriving at a store in a minute | number of minutes between customers arriving |\n",
    "|   customers per minute | minutes per customers |\n",
    "| **Events per single unit of time** | **Time per single event (time between events)**|\n",
    "\n",
    "An exponential distribution must have events that occur at a constant rate and these events must be independent of each other. Meaning that a car passing through a tollgate has no bearing on the time of the next car passing or the number of cars passing in an hour. When it meets these two criteria the exponential distribution can be characterized as memoryless\n",
    "\n",
    "\n",
    "\n",
    "I'm going to use the shop example from the poisson distribution explaination above. Above we said that our shop had an average of 3 customers per hour, or that our poisson distribution ($ \\lambda $) was 3. The distribution for a poisson distribution is classes as \"discrete\" meaning we can't have 2.5 customers we can either 2 or 3. In an exponential distributon it represents hours until next arrival. This will be represented with a continous curve (because we can have half an hour) which we call a probability density function. The mean for the poisson distribution is $ \\lambda $ and no surprise that mean for the exponential distributon is the inverse of this or $ \\frac{1}{\\lambda} $ otherwise know as $ \\mu $[10].\n",
    "\n",
    "So the mean for an exponential distributon is:\n",
    "\n",
    "$$ \\mu = \\frac{1}{\\lambda} $$\n",
    "\n",
    "So in our example we see (on average) 3 customers per hour but we could also say that we see 1 customer every 20 minutes (or $ \\frac{1}{3} $ of an hour). For our example we're going to convert to minutes so our mu is 20 minutes ($ \\mu = 20 $).\n",
    "\n",
    "So how do we get the probability that a customer will arrive in the next 10 minutes lets say. Well we can get it by the following formula:\n",
    "\n",
    "$$ P(X < x) = 1 - e^{\\frac{-x}{\\mu}} $$\n",
    "\n",
    "Filling in what we know ( $ \\mu = 20 $ and $ x = 10 $) we get:\n",
    "\n",
    "$$ P(X < 10) = 1 - e^{\\frac{-10}{20}} $$\n",
    "\n",
    "Which means our probability of a customer coming in the next 10 minutes is 0.39346934.\n",
    "\n",
    "$$ P(X < 10) = 0.39346934 $$\n",
    "\n",
    "Getting a range and graphing can see the likelihood of someone arriving after a given length of time:"
   ]
  },
  {
   "cell_type": "code",
   "execution_count": 44,
   "metadata": {},
   "outputs": [
    {
     "data": {
      "text/plain": [
       "[<matplotlib.lines.Line2D at 0x1c650c949a0>]"
      ]
     },
     "execution_count": 44,
     "metadata": {},
     "output_type": "execute_result"
    },
    {
     "data": {
      "image/png": "[encoded data removed]",
      "text/plain": [
       "<Figure size 432x288 with 1 Axes>"
      ]
     },
     "metadata": {
      "needs_background": "light"
     },
     "output_type": "display_data"
    }
   ],
   "source": [
    "mu = 20\n",
    "likelihood = []\n",
    "for x in range(120):\n",
    "    L = 1 - math.exp(-x/mu)\n",
    "    likelihood.append(L)\n",
    "    \n",
    "plt.plot(likelihood)"
   ]
  },
  {
   "cell_type": "markdown",
   "metadata": {},
   "source": [
    "The above graph represents the likelihood of a customer entering the shop in a certain time interval. Or the probabilty that someone will walk in in the next x amount of minutes. You'll notice that the longer we wait the more likely it is that someone will arrive. The x-axis is in minutes and we can see that after 60 minutes it becomes rapidly more likely that a customer will enter.\n",
    "\n",
    "Its probability density function is given with the equation [11]:\n",
    "\n",
    "$$ P(X < x) = \\frac{1}{\\mu} e^{\\frac{-x}{\\mu}} $$\n",
    "\n",
    "This will show the probability of the next arrival will be in x minutes. We can represent this with Python."
   ]
  },
  {
   "cell_type": "code",
   "execution_count": 45,
   "metadata": {},
   "outputs": [
    {
     "data": {
      "text/plain": [
       "[<matplotlib.lines.Line2D at 0x1c650cef6a0>]"
      ]
     },
     "execution_count": 45,
     "metadata": {},
     "output_type": "execute_result"
    },
    {
     "data": {
      "image/png": "[encoded data removed]",
      "text/plain": [
       "<Figure size 432x288 with 1 Axes>"
      ]
     },
     "metadata": {
      "needs_background": "light"
     },
     "output_type": "display_data"
    }
   ],
   "source": [
    "def exponentialProbability(mu):\n",
    "    probDistribution = []\n",
    "    for x in range(200):\n",
    "        exponentialP = (1/mu)*math.exp(-x/mu)\n",
    "        probDistribution.append(exponentialP)\n",
    "\n",
    "    return probDistribution\n",
    "\n",
    "plt.plot(exponentialProbability(20))"
   ]
  },
  {
   "cell_type": "markdown",
   "metadata": {},
   "source": [
    "Above you can see that the probability of a time lets say $ x = 25 $ or 25 minutes. We can infer that the probability of someone arriving in the next 25 minutes is just above 0.01.\n",
    "\n",
    "Similarly if we use the `exponential()` function to create a sample size of 50,000 (`size`) where our $ \\mu $ is 20 (`scale` when using the function) we can see a similar shape as above [12]. Showing that there are over 30,000 times a person arrived in about 20 minutes and it continuly gets less the longer the time `x`."
   ]
  },
  {
   "cell_type": "code",
   "execution_count": 46,
   "metadata": {},
   "outputs": [
    {
     "data": {
      "image/png": "[encoded data removed]",
      "text/plain": [
       "<Figure size 432x288 with 1 Axes>"
      ]
     },
     "metadata": {
      "needs_background": "light"
     },
     "output_type": "display_data"
    }
   ],
   "source": [
    "plt.hist(rng.exponential(scale = 20, size = 50000), 14)\n",
    "plt.show()"
   ]
  },
  {
   "cell_type": "markdown",
   "metadata": {},
   "source": [
    "### `random.normal()`\n",
    "\n",
    "The probability distribution function for a normal distribution is represent by:\n",
    "\n",
    "$$ P(x) = \\frac{1}{\\sqrt{2\\pi\\sigma^2}}e^{-\\frac{(x-\\mu)^2}{2\\sigma^2}} $$\n",
    "\n",
    "The key takeaway here is that there are two parameters mu ($ \\mu $) and sigma ($ \\sigma $) which are the mean and the standard deviation respectively. These parameters determine the shape (however a normal distribution always looks like a bell shaped shape). The mean is the most likely value of the disttribution (meaning it has the highest probability of occuring) and the standard deviation is \n",
    "\n",
    "This distribution can be found in the real world and is explained through the *Central Limit Theorem*. Simply stated this theorm says that \"as n increases, the distribution of the sample mean or sum approaches a normal distribution\".\n",
    "\n",
    "So that's all well but what use is this distribution for us? Well because this is such a commonly seen distribution, from rolling a die to blood pressure [13] we can use the `normal()` function to simulate this kind of data. We can give our own mean (or `loc` as our first function parameter), a standard deviation (or `scale` as our second parameter) and what size we want our sample size to be (this parameter is conviently called `size`). Note that the bigger the vale of `size` the more likely you are to have a dataset that truely represents a normal distribution.[14]\n",
    "\n",
    "Below we set our values for the mean and the standard deviation and place them into our function and the `size` (or number of values to return) to 10,000."
   ]
  },
  {
   "cell_type": "code",
   "execution_count": 47,
   "metadata": {},
   "outputs": [],
   "source": [
    "mu, std = 14.5, 0.5 # mean and standard deviation\n",
    "s = rng.normal(loc = mu, scale = std, size = 10000)"
   ]
  },
  {
   "cell_type": "markdown",
   "metadata": {},
   "source": [
    "Then we'll create a histogram with 30 ranges."
   ]
  },
  {
   "cell_type": "code",
   "execution_count": 49,
   "metadata": {},
   "outputs": [
    {
     "data": {
      "image/png": "[encoded data removed]",
      "text/plain": [
       "<Figure size 432x288 with 1 Axes>"
      ]
     },
     "metadata": {
      "needs_background": "light"
     },
     "output_type": "display_data"
    }
   ],
   "source": [
    "count, bins, ignored = plt.hist(s, 30, density=True)"
   ]
  },
  {
   "cell_type": "markdown",
   "metadata": {},
   "source": [
    "Then use the the bins to create the distribution curve. If you look closely you can see that the equation that is used as the second parameter for the plot is the probability distribution function from above. Oh and yellow line is a line straight up from the mean value[15]."
   ]
  },
  {
   "cell_type": "code",
   "execution_count": 48,
   "metadata": {
    "scrolled": true
   },
   "outputs": [
    {
     "data": {
      "image/png": "[encoded data removed]",
      "text/plain": [
       "<Figure size 432x288 with 1 Axes>"
      ]
     },
     "metadata": {
      "needs_background": "light"
     },
     "output_type": "display_data"
    }
   ],
   "source": [
    "plt.plot(bins, \n",
    "         # this is the probability distribution function above\n",
    "         1/(std * np.sqrt(2 * np.pi))*np.exp( - (bins - mu)**2 / (2 * std**2) ),\n",
    "         linewidth=2, \n",
    "         color='r')\n",
    "\n",
    "plt.axvline(mu, c='y')\n",
    "plt.show()\n",
    "#arr"
   ]
  },
  {
   "cell_type": "markdown",
   "metadata": {},
   "source": [
    "This simulated data can be used to represent a wide variety of real world events (or series of events).\n",
    "\n",
    "### `random.laplace()`\n",
    "\n",
    "The probability density function for laplace is[16]:\n",
    "\n",
    "$$ P(x) = \\frac{1}{2\\lambda}e^{-\\lvert \\frac{x-\\mu}{\\lambda} \\rvert} $$\n",
    "\n",
    "This type of dsitribution is used in Insurance claims and Credit risk in financial engineering . It is also sometimes called the double exponential distribution[17]. We can use the `laplace()` function to simulate this kind of data. We can give our own mean (or `loc` as our first function parameter), a standard deviation (or `scale` as our second parameter) and what size we want our sample size to be (this parameter is conviently called `size`).\n",
    "\n",
    "Lets first see what the above function produces first for a $ \\mu $ of 20 and  $ \\lambda $ of 1:"
   ]
  },
  {
   "cell_type": "code",
   "execution_count": 105,
   "metadata": {
    "scrolled": false
   },
   "outputs": [
    {
     "data": {
      "text/plain": [
       "[<matplotlib.lines.Line2D at 0x1c654972cd0>]"
      ]
     },
     "execution_count": 105,
     "metadata": {},
     "output_type": "execute_result"
    },
    {
     "data": {
      "image/png": "[encoded data removed]",
      "text/plain": [
       "<Figure size 432x288 with 1 Axes>"
      ]
     },
     "metadata": {
      "needs_background": "light"
     },
     "output_type": "display_data"
    }
   ],
   "source": [
    "def laplaceProbability(mu, lam):\n",
    "    probDistribution = []\n",
    "    for x in range(13, 30):\n",
    "        laplaceP = (1/2*lam)*math.exp(-(abs((x-mu))/lam))\n",
    "        probDistribution.append(laplaceP)\n",
    "\n",
    "    return probDistribution\n",
    "\n",
    "plt.plot(np.arange(13, 30), laplaceProbability(20, 1))"
   ]
  },
  {
   "cell_type": "markdown",
   "metadata": {},
   "source": [
    "Now lets compare this to the output of the `laplace` function. Remember `loc` is $ \\mu $ and `scale` is $ \\lambda $ and size can be 1 or multi-dimensional:"
   ]
  },
  {
   "cell_type": "code",
   "execution_count": 107,
   "metadata": {},
   "outputs": [
    {
     "data": {
      "image/png": "[encoded data removed]",
      "text/plain": [
       "<Figure size 432x288 with 1 Axes>"
      ]
     },
     "metadata": {
      "needs_background": "light"
     },
     "output_type": "display_data"
    }
   ],
   "source": [
    "plt.hist(rng.laplace(loc = 20, scale = 1, size = 1000),30)\n",
    "plt.show()"
   ]
  },
  {
   "cell_type": "markdown",
   "metadata": {},
   "source": [
    "Here the top graph shows the probabilty distribution. Meaning it shows the likelihood of each value appearing in the distribution. The bottom graph is a graph that displays the output of the `laplace` function. The function returned 1000 numbers (the `size`) and the closer they are to 20 (`loc` or $ \\mu $ in our equation) and the severity of the drop on either side is 1 (`scale` or $ \\lambda $ in our equation)."
   ]
  },
  {
   "cell_type": "markdown",
   "metadata": {},
   "source": [
    "### References\n",
    "\n",
    "[1] Khan Academy, \"Discrete uniform distribution\", https://www.youtube.com/watch?v=cyIEhL92wiw&ab_channel=KhanAcademy\n",
    "\n",
    "[2] NumPy Docs, \"numpy.random.Generator.integers\", https://numpy.org/doc/stable/reference/random/generated/numpy.random.Generator.integers.html#numpy.random.Generator.integers\n",
    "\n",
    "[3] NumPy Docs, \"numpy.random.Generator.random\", https://numpy.org/doc/stable/reference/random/generated/numpy.random.Generator.random.html#numpy.random.Generator.random\n",
    "\n",
    "[4] NumPy Docs, \"numpy.random.Generator.choice\", https://numpy.org/doc/stable/reference/random/generated/numpy.random.Generator.choice.html#numpy.random.Generator.choice%5D\n",
    "\n",
    "[5] Mohanrac, Answer to \"shuffle vs permute numpy\", https://stackoverflow.com/questions/15474159/shuffle-vs-permute-numpy#:~:text=shuffle(x)%20can%20permute%20the,original%20data%20is%20not%20changed.\n",
    "\n",
    "[6] NumPy Docs, \"numpy.random.Generator.shuffle\", https://numpy.org/doc/stable/reference/random/generated/numpy.random.Generator.shuffle.html#numpy.random.Generator.shuffle\n",
    "\n",
    "[7] mathnstuff.com, \"MIDDLE GROUND - Binomial Distribution Examples\", http://www.mathnstuff.com/math/spoken/here/2class/90/binom5.htm\n",
    "\n",
    "[8] zedstatistics, \"Binomial Distribution EXPLAINED!\", https://www.youtube.com/watch?v=e04_wUoscBU&ab_channel=zedstatistics\n",
    "\n",
    "[9] zedstatistics, \"Poisson Distribution EXPLAINED!\", https://www.youtube.com/watch?v=cPOChr_kuQs&ab_channel=zedstatistics\n",
    "\n",
    "[10] zedstatistics, \"Exponential Distribution! Definition | Calculations | Why is it called \"Exponential\"?\", https://www.youtube.com/watch?v=2kg1O0j1J9c&ab_channel=zedstatistics\n",
    "\n",
    "[11] Wikipedia, \"Exponential distribution\", https://en.wikipedia.org/wiki/Exponential_distribution\n",
    "\n",
    "[12] NumPy Docs, \"numpy.random.Generator.exponential\", https://numpy.org/doc/stable/reference/random/generated/numpy.random.Generator.exponential.html#numpy.random.Generator.exponential\n",
    "\n",
    "[13] Jim Frost, \"Normal Distribution in Statistics\", https://statisticsbyjim.com/basics/normal-distribution/#:~:text=For%20example%2C%20heights%2C%20blood%20pressure,distribution%20and%20the%20bell%20curve.\n",
    "\n",
    "[14] zedstatistics, \"What is a Normal Distribution?\", https://www.youtube.com/watch?v=RKdB1d5-OE0&list=PLTNMv857s9WVzutwxaMb0YZKW7hoveGLS&index=6&ab_channel=zedstatistics\n",
    "\n",
    "[15] NumPy Docs, \"numpy.random.Generator.normal\", https://numpy.org/doc/stable/reference/random/generated/numpy.random.Generator.normal.html#r1536f9c044a3-2\n",
    "\n",
    "[16] Weisstein, Eric W. \"Laplace Distribution.\" From MathWorld--A Wolfram Web Resource. https://mathworld.wolfram.com/LaplaceDistribution.html\n",
    "\n",
    "[17] wiki.stat.ucla.edu/, \"AP Statistics Curriculum 2007 Laplace\", http://wiki.stat.ucla.edu/socr/index.php/AP_Statistics_Curriculum_2007_Laplace\n",
    "\n",
    "[18] , \"\", \n",
    "\n",
    "[] , \"\", \n",
    "\n",
    "[] , \"\", \n",
    "\n",
    "[] , \"\", \n",
    "\n",
    "[] , \"\", \n",
    "\n",
    "[] , \"\", \n",
    "\n",
    "[] , \"\", \n",
    "\n",
    "[] , \"\", \n",
    "\n",
    "[] , \"\", \n",
    "\n",
    "[] , \"\", \n",
    "\n",
    "[] , \"\", \n"
   ]
  }
 ],
 "metadata": {
  "kernelspec": {
   "display_name": "Python 3",
   "language": "python",
   "name": "python3"
  },
  "language_info": {
   "codemirror_mode": {
    "name": "ipython",
    "version": 3
   },
   "file_extension": ".py",
   "mimetype": "text/x-python",
   "name": "python",
   "nbconvert_exporter": "python",
   "pygments_lexer": "ipython3",
   "version": "3.8.3"
  }
 },
 "nbformat": 4,
 "nbformat_minor": 4
}
