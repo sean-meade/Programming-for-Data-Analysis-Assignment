{
 "cells": [
  {
   "cell_type": "code",
   "execution_count": 67,
   "metadata": {},
   "outputs": [],
   "source": [
    "# Import packages\n",
    "import numpy as np\n",
    "import matplotlib.pyplot as plt\n",
    "import math\n",
    "from decimal import *\n",
    "# create random number generator\n",
    "rng = np.random.default_rng()"
   ]
  },
  {
   "cell_type": "markdown",
   "metadata": {},
   "source": [
    "# Numpys Random Package explained\n",
    "\n",
    "## Introduction\n",
    "\n",
    "Numpys `random` package is used to create different distributions of numbers. By distribution I mean a group of numbers, which numpy produces `np.array`. These distributions take on different properties depending on what the user is looking for. You can create a distribution with a certain size (the amount of elements in a list), a certain standard deviation (the value of the majority of numbers) and the range (The max and min values of the numbers).\n",
    "\n",
    "This notebook will explain the different parts of the package and hopefully give the reader an idea of how to use it for their own purposes.\n",
    "\n",
    "## Simple random data\n",
    "\n",
    "We'll start with the simple random data section of the package. Within the `random` you can use cerstion functions to create collections of numbers which are ... well simple. There are four in this category.\n",
    "\n",
    "### `random.integers()`\n",
    "\n",
    "The `integers` function has 5 parameters (or 'things' that effect the output). The only neccessary one is `low` the rest are optional. What this function does is gives you a random list of integers through a \"discrete uniform\" distribution. This is a fancy way of saying that the function will try to have (with some slight variance) the same quantity of each number in the list [https://www.youtube.com/watch?v=cyIEhL92wiw&ab_channel=KhanAcademy]. This will make more sense when we actually look at the function.\n",
    "\n",
    "`low`\n",
    "`high`\n",
    "`size`\n",
    "`dtype`\n",
    "`endpoint`\n",
    "\n",
    "Lets first take a look at the `low` parameter. In the documentaion [https://numpy.org/doc/stable/reference/random/generated/numpy.random.Generator.integers.html#numpy.random.Generator.integers] it expalians that low can either be an integer or an array-like of ints (basically a list of integers). If we are not using the parameter `high` (see the next parameter), which by default is set to `None`, then `low` determines the highest number in the output array. If `high` is set to a value then `low` is the lowest number in the output array.\n",
    "\n",
    "It easier to work through the code and see the output:"
   ]
  },
  {
   "cell_type": "code",
   "execution_count": 2,
   "metadata": {},
   "outputs": [
    {
     "data": {
      "text/plain": [
       "5"
      ]
     },
     "execution_count": 2,
     "metadata": {},
     "output_type": "execute_result"
    }
   ],
   "source": [
    "rng.integers(low=10)"
   ]
  },
  {
   "cell_type": "markdown",
   "metadata": {},
   "source": [
    "I know what you're saying \"... great I get a number? What use is that to me?\" Well you really can't tell what it's doing until you add the `size` parameter. The `size` parameter is (no points for guessing) the size of the output array or the number of values in the output list."
   ]
  },
  {
   "cell_type": "code",
   "execution_count": 3,
   "metadata": {},
   "outputs": [
    {
     "data": {
      "text/plain": [
       "array([9, 4, 4, 9, 8, 7, 2, 0, 3, 0], dtype=int64)"
      ]
     },
     "execution_count": 3,
     "metadata": {},
     "output_type": "execute_result"
    }
   ],
   "source": [
    "rng.integers(low=10, size=10)"
   ]
  },
  {
   "cell_type": "markdown",
   "metadata": {},
   "source": [
    "So as you can see above I now have 10 elements in a numpy array. You'll also notice that not one element is greater then 10, which is what our `low` parameter is set to. If we have no `high` parameter the value given for `low` becomes our high value and the low is automatically 0. But if we set `high` to 8, `low` to 2 and `size` to 10 we should expect to see an output of an array of 10 values no smaller then 2 and no larger then 7 (it's up to but not including `high`)."
   ]
  },
  {
   "cell_type": "code",
   "execution_count": 4,
   "metadata": {},
   "outputs": [
    {
     "data": {
      "text/plain": [
       "array([6, 4, 3, 6, 6, 7, 5, 5, 7, 5], dtype=int64)"
      ]
     },
     "execution_count": 4,
     "metadata": {},
     "output_type": "execute_result"
    }
   ],
   "source": [
    "rng.integers(low=2, high=8, size=10)"
   ]
  },
  {
   "cell_type": "markdown",
   "metadata": {},
   "source": [
    "Which we do!"
   ]
  },
  {
   "cell_type": "markdown",
   "metadata": {},
   "source": [
    "If we get a large enough output size you can start to see the uniform distribution talked about above."
   ]
  },
  {
   "cell_type": "code",
   "execution_count": 5,
   "metadata": {},
   "outputs": [
    {
     "data": {
      "image/png": "[encoded data removed]",
      "text/plain": [
       "<Figure size 432x288 with 1 Axes>"
      ]
     },
     "metadata": {
      "needs_background": "light"
     },
     "output_type": "display_data"
    }
   ],
   "source": [
    "y = rng.integers(low=2, high=8, size=100000)\n",
    "plt.hist(y)\n",
    "plt.show()"
   ]
  },
  {
   "cell_type": "markdown",
   "metadata": {},
   "source": [
    "You can see that they are even across"
   ]
  },
  {
   "cell_type": "markdown",
   "metadata": {},
   "source": [
    "### `random.random()`\n",
    "\n",
    "If given no parameters it produces a random float with a possible range of 0 and up to but not including 1."
   ]
  },
  {
   "cell_type": "code",
   "execution_count": 6,
   "metadata": {},
   "outputs": [
    {
     "data": {
      "text/plain": [
       "0.9182651728336466"
      ]
     },
     "execution_count": 6,
     "metadata": {},
     "output_type": "execute_result"
    }
   ],
   "source": [
    "rng.random()"
   ]
  },
  {
   "cell_type": "markdown",
   "metadata": {},
   "source": [
    "### `random.choice()`\n",
    "\n",
    "Lets say you want to simulate a decision. Like rolling a die. If I set `a` to an 7 (it uses up to but not including a and this represents each face on the die) it can simulate a fair roll."
   ]
  },
  {
   "cell_type": "code",
   "execution_count": 7,
   "metadata": {},
   "outputs": [
    {
     "data": {
      "text/plain": [
       "2"
      ]
     },
     "execution_count": 7,
     "metadata": {},
     "output_type": "execute_result"
    }
   ],
   "source": [
    "rng.choice(7)"
   ]
  },
  {
   "cell_type": "markdown",
   "metadata": {},
   "source": [
    "### `random.bytes()`\n",
    "\n",
    "Returns a random number of bytes of length `length`."
   ]
  },
  {
   "cell_type": "code",
   "execution_count": 8,
   "metadata": {},
   "outputs": [
    {
     "data": {
      "text/plain": [
       "b'+\\x08h\\xd3\\xeb?\\xb8\\xc3g\\x99'"
      ]
     },
     "execution_count": 8,
     "metadata": {},
     "output_type": "execute_result"
    }
   ],
   "source": [
    "rng.bytes(10)"
   ]
  },
  {
   "cell_type": "markdown",
   "metadata": {},
   "source": [
    "## Permutations\n",
    "\n",
    "Permutations are ways of how to order your data in an array. NumPy has two in its arsenal. `shuffle` and `permutation`.\n",
    "\n",
    "We'll start with `shuffle`. Lets say you have an array of numbers but you want them to be in random order then you apply shuffle to it. Lets say we had an array with numbers from one to ten."
   ]
  },
  {
   "cell_type": "code",
   "execution_count": 9,
   "metadata": {},
   "outputs": [],
   "source": [
    "rng = np.random.default_rng()\n",
    "arr = np.arange(10)"
   ]
  },
  {
   "cell_type": "markdown",
   "metadata": {},
   "source": [
    "to shuffle them we would wrap the array in `shuffle`:"
   ]
  },
  {
   "cell_type": "code",
   "execution_count": 10,
   "metadata": {},
   "outputs": [],
   "source": [
    "rng.shuffle(arr)"
   ]
  },
  {
   "cell_type": "code",
   "execution_count": null,
   "metadata": {},
   "outputs": [],
   "source": []
  },
  {
   "cell_type": "code",
   "execution_count": 11,
   "metadata": {},
   "outputs": [
    {
     "data": {
      "text/plain": [
       "array([[1, 2, 3],\n",
       "       [4, 5, 6],\n",
       "       [7, 8, 9]])"
      ]
     },
     "execution_count": 11,
     "metadata": {},
     "output_type": "execute_result"
    }
   ],
   "source": [
    "arr = np.array([[1, 2, 3],\n",
    "               [4, 5, 6],\n",
    "               [7, 8, 9]])\n",
    "arr"
   ]
  },
  {
   "cell_type": "code",
   "execution_count": 12,
   "metadata": {},
   "outputs": [
    {
     "data": {
      "text/plain": [
       "array([[7, 8, 9],\n",
       "       [1, 2, 3],\n",
       "       [4, 5, 6]])"
      ]
     },
     "execution_count": 12,
     "metadata": {},
     "output_type": "execute_result"
    }
   ],
   "source": [
    "rng.shuffle(arr)\n",
    "arr"
   ]
  },
  {
   "cell_type": "markdown",
   "metadata": {},
   "source": [
    "### `random.permutation()`\n",
    "\n",
    "arr = rng.permutation(arr)"
   ]
  },
  {
   "cell_type": "code",
   "execution_count": 13,
   "metadata": {},
   "outputs": [],
   "source": [
    "array = np.arange(10)\n",
    "array = rng.permutation(array)"
   ]
  },
  {
   "cell_type": "code",
   "execution_count": 14,
   "metadata": {
    "scrolled": true
   },
   "outputs": [
    {
     "data": {
      "text/plain": [
       "array([8, 9, 7, 6, 5, 4, 0, 3, 2, 1])"
      ]
     },
     "execution_count": 14,
     "metadata": {},
     "output_type": "execute_result"
    }
   ],
   "source": [
    "array"
   ]
  },
  {
   "cell_type": "markdown",
   "metadata": {},
   "source": [
    "## Distributions\n",
    "\n",
    "Certain data sets taken from the real world follow certain rules to a certain extent.\n",
    "\n",
    "### `random.binomial()`\n",
    "\n",
    "There are pre-requites that a binomial distribution must have:\n",
    "1. There are only two potential outcomes per trial.\n",
    "2. The probability of success (p) is the same across all trials.\n",
    "3. The number of trials (n) is fixed.\n",
    "4. Each trial is independent.\n",
    "\n",
    "Lets take an example [http://www.mathnstuff.com/math/spoken/here/2class/90/binom5.htm]. Lets say we have a class of 14 students and each student has the probability of 0.6 for passing the class. Well there are two possible outcomes: pass or fail. So that's pre-requite number 1 out of the way. The probability of each student passing is the same, the number of students is the same throughout and whether or not a student passes does not rely on the others passing or failing (unless they cheat but we'll assume we've honest students in our school). So we have an example that covers the criteria for a binomial distribution.\n",
    "\n",
    "\"But Seán..\" I hear you say \"what good is this information if we don't know how to use it?\" Great inquisitve question! Lets get stuck in. Here is the formula to calculate all the possible outcomes of a binomial distribution [https://www.youtube.com/watch?v=e04_wUoscBU&ab_channel=zedstatistics]:\n",
    "\n",
    "$$ P(X = x) = \\binom{n}{x}p^{x}(1-p)^{n-x} $$\n",
    "\n",
    "This can be read as: The probability that x amount of trails are successful\n",
    "\n",
    "$$ P(X = x) $$\n",
    "\n",
    "is equal to the the number of ways you can have x number of successes out of n trials\n",
    "\n",
    "$$ = \\binom{n}{x} $$\n",
    "\n",
    "Note (we will need this for our calculation below): \n",
    "\n",
    "$$ \\binom{n}{x} = \\frac{n!}{(n-x)!x!} $$\n",
    "\n",
    "multiplied by the probability of success (p) to the power of the number of successes (x)\n",
    "\n",
    "$$ p^{x} $$\n",
    "\n",
    "muliplies by the probability of failure (1-p) to the power of the number of failures (n-x)\n",
    "\n",
    "$$ (1-p)^{n-x} $$\n",
    "\n",
    "So in our example above the number of \"trials\" (n) are the tests our students take so 14 (because there are 14 students). The probability of success (p) for each student is given as 0.6. Lastly we need to choose our x, the number of successful trials we want the probability of we'll see how what it is for the case if half our students pass so x is 7. We can now use the formula to find the probability:"
   ]
  },
  {
   "cell_type": "code",
   "execution_count": 15,
   "metadata": {},
   "outputs": [],
   "source": [
    "x = 7\n",
    "n = 14\n",
    "p = 0.6\n",
    "# combination\n",
    "com = math.factorial(n)/(math.factorial(n-x)*math.factorial(x))\n",
    "\n",
    "P = com*(p**x)*((1-p)**(n-x))"
   ]
  },
  {
   "cell_type": "code",
   "execution_count": 16,
   "metadata": {},
   "outputs": [
    {
     "data": {
      "text/plain": [
       "0.15740769927168002"
      ]
     },
     "execution_count": 16,
     "metadata": {},
     "output_type": "execute_result"
    }
   ],
   "source": [
    "P"
   ]
  },
  {
   "cell_type": "markdown",
   "metadata": {},
   "source": [
    "This is the probability of number of trial successes but what we are looking for is a distribution. This distribution shows the probability for each possible outcome (i.e. from the probability of one successful trial to them all being successful). By turning our code above into a loop we can output this full distribution."
   ]
  },
  {
   "cell_type": "code",
   "execution_count": 17,
   "metadata": {},
   "outputs": [],
   "source": [
    "def binomialProbabilities(n, p):\n",
    "    probDistribution = []\n",
    "    for x in range(0, n+1):\n",
    "        com = math.factorial(n)/(math.factorial(n-x)*math.factorial(x))\n",
    "        P = com*(p**x)*((1-p)**(n-x))\n",
    "        probDistribution.append(P)\n",
    "        \n",
    "    return probDistribution"
   ]
  },
  {
   "cell_type": "code",
   "execution_count": 18,
   "metadata": {
    "scrolled": false
   },
   "outputs": [
    {
     "data": {
      "text/plain": [
       "[2.684354560000002e-06,\n",
       " 5.637144576000004e-05,\n",
       " 0.0005496215961600003,\n",
       " 0.0032977295769600016,\n",
       " 0.013603134504960007,\n",
       " 0.040809403514880015,\n",
       " 0.09182115790848003,\n",
       " 0.15740769927168002,\n",
       " 0.20659760529408,\n",
       " 0.20659760529408,\n",
       " 0.15494820397055997,\n",
       " 0.08451720216575999,\n",
       " 0.03169395081215999,\n",
       " 0.007313988648959996,\n",
       " 0.0007836416409599996]"
      ]
     },
     "execution_count": 18,
     "metadata": {},
     "output_type": "execute_result"
    }
   ],
   "source": [
    "binomialProbabilities(14, 0.6)"
   ]
  },
  {
   "cell_type": "markdown",
   "metadata": {},
   "source": [
    "The parameters of numpys `binomial()` function are the number of experiments `size`, the numbers of trials `n` in each experiment and the probability of success `p`. What the function does is uses the above probability formula to produce numbers that match the probability distribution. So lets say you ran the `binomial` function with the `n` and `p` above 100,000 times. This will produce an array with simulated data of the number of successful trials for each of the 100,000 experiments.\n",
    "\n",
    "In theory if we were to view the distribution of our experiments and the distribution of the probability they should look similar."
   ]
  },
  {
   "cell_type": "code",
   "execution_count": 19,
   "metadata": {},
   "outputs": [],
   "source": [
    "number_of_successes = rng.binomial(14, 0.6, 100000)"
   ]
  },
  {
   "cell_type": "code",
   "execution_count": 20,
   "metadata": {},
   "outputs": [
    {
     "data": {
      "text/plain": [
       "<function matplotlib.pyplot.show(*args, **kw)>"
      ]
     },
     "execution_count": 20,
     "metadata": {},
     "output_type": "execute_result"
    },
    {
     "data": {
      "image/png": "[encoded data removed]",
      "text/plain": [
       "<Figure size 432x288 with 1 Axes>"
      ]
     },
     "metadata": {
      "needs_background": "light"
     },
     "output_type": "display_data"
    }
   ],
   "source": [
    "plt.hist(number_of_successes, 14)\n",
    "plt.show"
   ]
  },
  {
   "cell_type": "code",
   "execution_count": 21,
   "metadata": {},
   "outputs": [],
   "source": [
    "probabilities = binomialProbabilities(14, 0.6)"
   ]
  },
  {
   "cell_type": "code",
   "execution_count": 22,
   "metadata": {},
   "outputs": [
    {
     "data": {
      "text/plain": [
       "[<matplotlib.lines.Line2D at 0x1f114f739d0>]"
      ]
     },
     "execution_count": 22,
     "metadata": {},
     "output_type": "execute_result"
    },
    {
     "data": {
      "image/png": "[encoded data removed]",
      "text/plain": [
       "<Figure size 432x288 with 1 Axes>"
      ]
     },
     "metadata": {
      "needs_background": "light"
     },
     "output_type": "display_data"
    }
   ],
   "source": [
    "plt.plot(np.arange(15) ,probabilities)"
   ]
  },
  {
   "cell_type": "markdown",
   "metadata": {},
   "source": [
    "And what do you know! It does."
   ]
  },
  {
   "cell_type": "markdown",
   "metadata": {},
   "source": [
    "### `random.poisson()`\n",
    "\n",
    "The poisson distribution is discrete which means it can only contain a discrete set of values. The distribution describes the number of events occurring in a fixed time interval or region of opportunity. For example how many customers a shop gets every hour. In this example there is a fixed time interval of an hour and this distribution might discribe the number of events in that hour.[https://www.youtube.com/watch?v=cPOChr_kuQs&ab_channel=zedstatistics]\n",
    "\n",
    "This distribution requires only one parameter, $ \\lambda $ (the poisson distribution), which is the expected number of events per time interval. This can also be looked as the mean number of events per time interval. It is also bounded by zero and infinety, [0, $ \\infty $),\n",
    "\n",
    "Assumptions:\n",
    "1. The rate at which events occur is constant (i.e. that in a given time interval the probability of an event happening should be the exact same as every other time interval of that size).\n",
    "2. The occurrence of one event does not affect the occurrence of a subsequent event (i.e. events are independent).\n",
    "\n",
    "The probability mass function is the formula used to determine the probability that a certain number of events ($ x $) will happen in a time interval with the poisson distribution ($ \\lambda $). It is give as:\n",
    "\n",
    "$$ P(X=x) = \\frac{e^{-\\lambda} \\lambda^x}{x!} $$\n",
    "\n",
    "So given our shop example if we wanted to find the probability of a shop getting 5 customers when the shop gets an average of 3 customers per hour (our time interval for this example). Then the Probability can be worked out by plugging in our values:\n",
    "\n",
    "$$ P(X=5) = \\frac{e^{-3} 3^5}{5!} $$\n",
    "\n",
    "Which can worked out as:\n",
    "\n",
    "$$ P(X=x) = 0.101 $$\n",
    "\n",
    "We can also work it out with Python."
   ]
  },
  {
   "cell_type": "code",
   "execution_count": 23,
   "metadata": {},
   "outputs": [
    {
     "data": {
      "text/plain": [
       "0.10081881344492448"
      ]
     },
     "execution_count": 23,
     "metadata": {},
     "output_type": "execute_result"
    }
   ],
   "source": [
    "lam = 3\n",
    "x = 5\n",
    "\n",
    "poissonP = (math.exp(-lam)*(lam**x))/(math.factorial(x))\n",
    "poissonP"
   ]
  },
  {
   "cell_type": "markdown",
   "metadata": {},
   "source": [
    "Like above we are looking for a distribution. By looping over the equation above we can find the probability for each possible outcome"
   ]
  },
  {
   "cell_type": "code",
   "execution_count": 24,
   "metadata": {},
   "outputs": [
    {
     "data": {
      "text/plain": [
       "array([], dtype=float64)"
      ]
     },
     "execution_count": 24,
     "metadata": {},
     "output_type": "execute_result"
    }
   ],
   "source": [
    "probDistribution = np.array([])\n",
    "np.append(probDistribution, np.float(3.567))\n",
    "probDistribution"
   ]
  },
  {
   "cell_type": "code",
   "execution_count": 95,
   "metadata": {},
   "outputs": [
    {
     "data": {
      "text/plain": [
       "[<matplotlib.lines.Line2D at 0x1f116fe57c0>]"
      ]
     },
     "execution_count": 95,
     "metadata": {},
     "output_type": "execute_result"
    },
    {
     "data": {
      "image/png": "[encoded data removed]",
      "text/plain": [
       "<Figure size 432x288 with 1 Axes>"
      ]
     },
     "metadata": {
      "needs_background": "light"
     },
     "output_type": "display_data"
    }
   ],
   "source": [
    "def poissonProbability(lam):\n",
    "    probDistribution = []\n",
    "    poissonP = 0\n",
    "    for x in range(14):\n",
    "        poissonP = math.exp(-lam)*(lam**x)/math.factorial(x)\n",
    "        probDistribution.append(poissonP)\n",
    "        \n",
    "    return probDistribution\n",
    "\n",
    "\n",
    "plt.plot(poissonProbability(3))"
   ]
  },
  {
   "cell_type": "code",
   "execution_count": 28,
   "metadata": {},
   "outputs": [
    {
     "data": {
      "image/png": "[encoded data removed]",
      "text/plain": [
       "<Figure size 432x288 with 1 Axes>"
      ]
     },
     "metadata": {
      "needs_background": "light"
     },
     "output_type": "display_data"
    }
   ],
   "source": [
    "y = rng.poisson(3,1000000)\n",
    "plt.hist(y,16)\n",
    "plt.show()"
   ]
  },
  {
   "cell_type": "markdown",
   "metadata": {},
   "source": [
    "We can see from the first graph that the probability of getting 3 customers per hour is above a probability of 0.20 and that to either side of that it becomes less and less likely to get the number of customers per hour. The second graph shows the same thing only with actual events. We can see that there are over 200,000 times when 3 customers entered our store."
   ]
  },
  {
   "cell_type": "markdown",
   "metadata": {},
   "source": [
    "### `random.exponential()`\n",
    "\n",
    "A distribution must have a few requirements to be considered a exponential distribution.\n",
    "\n",
    "The first being that an exponential distribution is actually the time between events in a Poisson process (i.e. the \"inverse\" of Poisson, check the previous distribution). \n",
    "\n",
    "For example:\n",
    "\n",
    "| Poisson | Exponential |\n",
    "|:-:|:-:|\n",
    "| number of cars passing a tollgate in one hour | Number of hours between arrivals |\n",
    "|   cars per hour | hours per car |\n",
    "|   number of customers arriving at a store in a minute | number of minutes between customers arriving |\n",
    "|   customers per minute | minutes per customers |\n",
    "| **Events per single unit of time** | **Time per single event (time between events)**|\n",
    "\n",
    "An exponential distribution must have events that occur at a constant rate and these events must be independent of each other. Meaning that a car passing through a tollgate has no bearing on the time of the next car passing or the number of cars passing in an hour. When it meets these two criteria the exponential distribution can be characterized as memoryless\n",
    "\n",
    "\n",
    "\n",
    "I'm going to use the shop example from the poisson distribution explaination above. Above we said that our shop had an average of 3 customers per hour, or that our poisson distribution ($ \\lambda $) was 3. The distribution for a poisson distribution is classes as \"discrete\" meaning we can't have 2.5 customers we can either 2 or 3. In an exponential distributon it represents hours until next arrival. This will be represented with a continous curve (because we can have half an hour) which we call a probability density function. The mean for the poisson distribution is $ \\lambda $ and no surprise that mean for the exponential distributon is the inverse of this or $ \\frac{1}{\\lambda} $ otherwise know as $ \\mu $[\n",
    "[https://www.youtube.com/watch?v=2kg1O0j1J9c&ab_channel=zedstatistics]].\n",
    "\n",
    "So the mean for an exponential distributon is:\n",
    "\n",
    "$$ \\mu = \\frac{1}{\\lambda} $$\n",
    "\n",
    "So in our example we see (on average) 3 customers per hour but we could also say that we see 1 customer every 20 minutes (or $ \\frac{1}{3} $ of an hour). For our example we're going to convert to minutes so our mu is 20 minutes ($ \\mu = 20 $).\n",
    "\n",
    "So how do we get the probability that a customer will arrive in the next 10 minutes lets say. Well we can get it by the following formula:\n",
    "\n",
    "$$ P(X < x) = 1 - e^{\\frac{-x}{\\mu}} $$\n",
    "\n",
    "Filling in what we know ( $ \\mu = 20 $ and $ x = 10 $) we get:\n",
    "\n",
    "$$ P(X < 10) = 1 - e^{\\frac{-10}{20}} $$\n",
    "\n",
    "Which means our probability of a customer coming in the next 10 minutes is 0.39346934.\n",
    "\n",
    "$$ P(X < 10) = 0.39346934 $$\n",
    "\n",
    "Getting a range and graphing can see the likelihood of someone arriving after a given length of time:"
   ]
  },
  {
   "cell_type": "code",
   "execution_count": 33,
   "metadata": {},
   "outputs": [
    {
     "data": {
      "text/plain": [
       "[<matplotlib.lines.Line2D at 0x1f1159c4340>]"
      ]
     },
     "execution_count": 33,
     "metadata": {},
     "output_type": "execute_result"
    },
    {
     "data": {
      "image/png": "[encoded data removed]",
      "text/plain": [
       "<Figure size 432x288 with 1 Axes>"
      ]
     },
     "metadata": {
      "needs_background": "light"
     },
     "output_type": "display_data"
    }
   ],
   "source": [
    "mu = 20\n",
    "likelihood = []\n",
    "for x in range(120):\n",
    "    L = 1 - math.exp(-x/mu)\n",
    "    likelihood.append(L)\n",
    "    \n",
    "plt.plot(likelihood)"
   ]
  },
  {
   "cell_type": "markdown",
   "metadata": {},
   "source": [
    "The above graph represents the likelihood of a customer entering the shop in a certain time interval. Or the probabilty that someone will walk in in the next x amount of minutes. You'll notice that the longer we wait the more likely it is that someone will arrive. The x-axis is in minutes and we can see that after 60 minutes it becomes rapidly more likely that a customer will enter.\n",
    "\n",
    "Its probability density function is given with the equation [https://en.wikipedia.org/wiki/Exponential_distribution]:\n",
    "\n",
    "$$ P(X < x) = \\frac{1}{\\mu} e^{\\frac{-x}{\\mu}} $$\n",
    "\n",
    "This will show the probability of the next arrival will be in x minutes. We can represent this with Python."
   ]
  },
  {
   "cell_type": "code",
   "execution_count": 105,
   "metadata": {},
   "outputs": [
    {
     "data": {
      "text/plain": [
       "[<matplotlib.lines.Line2D at 0x1f1172dc850>]"
      ]
     },
     "execution_count": 105,
     "metadata": {},
     "output_type": "execute_result"
    },
    {
     "data": {
      "image/png": "[encoded data removed]",
      "text/plain": [
       "<Figure size 432x288 with 1 Axes>"
      ]
     },
     "metadata": {
      "needs_background": "light"
     },
     "output_type": "display_data"
    }
   ],
   "source": [
    "def exponentialProbability(mu):\n",
    "    probDistribution = []\n",
    "    for x in range(200):\n",
    "        exponentialP = (1/mu)*math.exp(-x/mu)\n",
    "        probDistribution.append(exponentialP)\n",
    "\n",
    "    return probDistribution\n",
    "\n",
    "plt.plot(exponentialProbability(20))"
   ]
  },
  {
   "cell_type": "markdown",
   "metadata": {},
   "source": [
    "Above you can see that the probability of a time lets say $ x = 25 $ or 25 minutes. We can infer that the probability of someone arriving in the next 25 minutes is just above 0.01.\n",
    "\n",
    "Similarly if we use the `exponential()` function to create a sample size of 50,000 (`size`) where our $ \\mu $ is 20 (`scale` when using the function) we can see a similar shape as above [https://numpy.org/doc/stable/reference/random/generated/numpy.random.Generator.exponential.html#numpy.random.Generator.exponential]. Showing that there are over 30,000 times a person arrived in about 20 minutes and it continuly gets less the longer the time `x`."
   ]
  },
  {
   "cell_type": "code",
   "execution_count": 106,
   "metadata": {},
   "outputs": [
    {
     "data": {
      "image/png": "[encoded data removed]",
      "text/plain": [
       "<Figure size 432x288 with 1 Axes>"
      ]
     },
     "metadata": {
      "needs_background": "light"
     },
     "output_type": "display_data"
    }
   ],
   "source": [
    "plt.hist(rng.exponential(scale = 20, size = 50000), 14)\n",
    "plt.show()"
   ]
  },
  {
   "cell_type": "markdown",
   "metadata": {},
   "source": [
    "### `random.normal()`\n",
    "\n",
    "The probability distribution function:\n",
    "\n",
    "$$ P(x) = \\frac{1}{\\sqrt{2\\pi\\sigma^2}}e^{-\\frac{(x-\\mu)^2}{2\\sigma^2}} $$\n",
    "\n",
    "[https://www.youtube.com/watch?v=RKdB1d5-OE0&list=PLTNMv857s9WVzutwxaMb0YZKW7hoveGLS&index=6&ab_channel=zedstatistics]\n",
    "\n"
   ]
  },
  {
   "cell_type": "code",
   "execution_count": 129,
   "metadata": {},
   "outputs": [
    {
     "data": {
      "image/png": "[encoded data removed]",
      "text/plain": [
       "<Figure size 432x288 with 1 Axes>"
      ]
     },
     "metadata": {
      "needs_background": "light"
     },
     "output_type": "display_data"
    }
   ],
   "source": [
    "mu = 14.5 # MOST LIKELY \n",
    "std = 0.5 # \n",
    "\n",
    "\n",
    "arr = []\n",
    "for x in range(12, ):\n",
    "    P = (1/(math.sqrt(2*math.pi*(std**2))))*math.exp((1*(x-mu)**2)/(2*(std**2)))\n",
    "    print(P)\n",
    "    arr.append(P)\n",
    "    \n",
    "plt.hist(arr)\n",
    "plt.show()"
   ]
  },
  {
   "cell_type": "markdown",
   "metadata": {},
   "source": [
    "if enough time\n",
    "\n",
    "### `random.chisquare()`\n",
    "\n",
    "[https://www.youtube.com/watch?v=80ffqpZdKiA&list=PLTNMv857s9WVzutwxaMb0YZKW7hoveGLS&index=8&ab_channel=zedstatistics]\n",
    "\n",
    "if not\n",
    "\n",
    "### `random.uniform()`"
   ]
  },
  {
   "cell_type": "code",
   "execution_count": null,
   "metadata": {},
   "outputs": [],
   "source": []
  }
 ],
 "metadata": {
  "kernelspec": {
   "display_name": "Python 3",
   "language": "python",
   "name": "python3"
  },
  "language_info": {
   "codemirror_mode": {
    "name": "ipython",
    "version": 3
   },
   "file_extension": ".py",
   "mimetype": "text/x-python",
   "name": "python",
   "nbconvert_exporter": "python",
   "pygments_lexer": "ipython3",
   "version": "3.8.3"
  }
 },
 "nbformat": 4,
 "nbformat_minor": 4
}
