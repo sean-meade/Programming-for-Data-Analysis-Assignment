{
 "cells": [
  {
   "cell_type": "code",
   "execution_count": 1,
   "metadata": {},
   "outputs": [],
   "source": [
    "# Import packages\n",
    "import numpy as np\n",
    "import matplotlib.pyplot as plt\n",
    "import math\n",
    "from decimal import *\n",
    "# create random number generator\n",
    "rng = np.random.default_rng()"
   ]
  },
  {
   "cell_type": "markdown",
   "metadata": {},
   "source": [
    "# Numpys Random Package explained\n",
    "\n",
    "## Introduction\n",
    "\n",
    "Numpys `random` package is used to create different distributions of numbers. By distribution I mean a group of numbers, which numpy produces `np.array`. These distributions take on different properties depending on what the user is looking for. You can create a distribution with a certain size (the amount of elements in a list), a certain standard deviation (the value of the majority of numbers) and the range (The max and min values of the numbers).\n",
    "\n",
    "This notebook will explain the different parts of the package and hopefully give the reader an idea of how to use it for their own purposes.\n",
    "\n",
    "## Simple random data\n",
    "\n",
    "We'll start with the simple random data section of the package. Within the `random` you can use cerstion functions to create collections of numbers which are ... well simple. There are four in this category.\n",
    "\n",
    "### `random.integers()`\n",
    "\n",
    "The `integers` function has 5 parameters (or 'things' that effect the output). The only neccessary one is `low` the rest are optional. What this function does is gives you a random list of integers through a \"discrete uniform\" distribution. This is a fancy way of saying that the function will try to have (with some slight variance) the same quantity of each number in the list [https://www.youtube.com/watch?v=cyIEhL92wiw&ab_channel=KhanAcademy]. This will make more sense when we actually look at the function.\n",
    "\n",
    "`low`\n",
    "`high`\n",
    "`size`\n",
    "`dtype`\n",
    "`endpoint`\n",
    "\n",
    "Lets first take a look at the `low` parameter. In the documentaion [https://numpy.org/doc/stable/reference/random/generated/numpy.random.Generator.integers.html#numpy.random.Generator.integers] it expalians that low can either be an integer or an array-like of ints (basically a list of integers). If we are not using the parameter `high` (see the next parameter), which by default is set to `None`, then `low` determines the highest number in the output array. If `high` is set to a value then `low` is the lowest number in the output array.\n",
    "\n",
    "It easier to work through the code and see the output:"
   ]
  },
  {
   "cell_type": "code",
   "execution_count": 2,
   "metadata": {},
   "outputs": [
    {
     "data": {
      "text/plain": [
       "3"
      ]
     },
     "execution_count": 2,
     "metadata": {},
     "output_type": "execute_result"
    }
   ],
   "source": [
    "rng.integers(low=10)"
   ]
  },
  {
   "cell_type": "markdown",
   "metadata": {},
   "source": [
    "I know what you're saying \"... great I get a number? What use is that to me?\" Well you really can't tell what it's doing until you add the `size` parameter. The `size` parameter is (no points for guessing) the size of the output array or the number of values in the output list."
   ]
  },
  {
   "cell_type": "code",
   "execution_count": 3,
   "metadata": {},
   "outputs": [
    {
     "data": {
      "text/plain": [
       "array([8, 2, 0, 9, 1, 3, 1, 3, 6, 0], dtype=int64)"
      ]
     },
     "execution_count": 3,
     "metadata": {},
     "output_type": "execute_result"
    }
   ],
   "source": [
    "rng.integers(low=10, size=10)"
   ]
  },
  {
   "cell_type": "markdown",
   "metadata": {},
   "source": [
    "So as you can see above I now have 10 elements in a numpy array. You'll also notice that not one element is greater then 10, which is what our `low` parameter is set to. If we have no `high` parameter the value given for `low` becomes our high value and the low is automatically 0. But if we set `high` to 8, `low` to 2 and `size` to 10 we should expect to see an output of an array of 10 values no smaller then 2 and no larger then 7 (it's up to but not including `high`)."
   ]
  },
  {
   "cell_type": "code",
   "execution_count": 4,
   "metadata": {},
   "outputs": [
    {
     "data": {
      "text/plain": [
       "array([4, 4, 2, 4, 4, 2, 7, 3, 2, 5], dtype=int64)"
      ]
     },
     "execution_count": 4,
     "metadata": {},
     "output_type": "execute_result"
    }
   ],
   "source": [
    "rng.integers(low=2, high=8, size=10)"
   ]
  },
  {
   "cell_type": "markdown",
   "metadata": {},
   "source": [
    "Which we do!"
   ]
  },
  {
   "cell_type": "markdown",
   "metadata": {},
   "source": [
    "If we get a large enough output size you can start to see the uniform distribution talked about above."
   ]
  },
  {
   "cell_type": "code",
   "execution_count": 5,
   "metadata": {},
   "outputs": [
    {
     "data": {
      "image/png": "[encoded data removed]",
      "text/plain": [
       "<Figure size 432x288 with 1 Axes>"
      ]
     },
     "metadata": {
      "needs_background": "light"
     },
     "output_type": "display_data"
    }
   ],
   "source": [
    "y = rng.integers(low=2, high=8, size=100000)\n",
    "plt.hist(y)\n",
    "plt.show()"
   ]
  },
  {
   "cell_type": "markdown",
   "metadata": {},
   "source": [
    "You can see that they are even across"
   ]
  },
  {
   "cell_type": "markdown",
   "metadata": {},
   "source": [
    "### `random.random()`\n",
    "\n",
    "If given no parameters it produces a random float with a possible range of 0 and up to but not including 1."
   ]
  },
  {
   "cell_type": "code",
   "execution_count": 6,
   "metadata": {},
   "outputs": [
    {
     "data": {
      "text/plain": [
       "0.7862170388017812"
      ]
     },
     "execution_count": 6,
     "metadata": {},
     "output_type": "execute_result"
    }
   ],
   "source": [
    "rng.random()"
   ]
  },
  {
   "cell_type": "markdown",
   "metadata": {},
   "source": [
    "### `random.choice()`\n",
    "\n",
    "Lets say you want to simulate a decision. Like rolling a die. If I set `a` to an 7 (it uses up to but not including a and this represents each face on the die) it can simulate a fair roll."
   ]
  },
  {
   "cell_type": "code",
   "execution_count": 7,
   "metadata": {},
   "outputs": [
    {
     "data": {
      "text/plain": [
       "4"
      ]
     },
     "execution_count": 7,
     "metadata": {},
     "output_type": "execute_result"
    }
   ],
   "source": [
    "rng.choice(7)"
   ]
  },
  {
   "cell_type": "markdown",
   "metadata": {},
   "source": [
    "### `random.bytes()`\n",
    "\n",
    "Returns a random number of bytes of length `length`."
   ]
  },
  {
   "cell_type": "code",
   "execution_count": 8,
   "metadata": {},
   "outputs": [
    {
     "data": {
      "text/plain": [
       "b'E\\x06\\xe8\\x8d\\x18n\\xe2x\\xbc\\xec'"
      ]
     },
     "execution_count": 8,
     "metadata": {},
     "output_type": "execute_result"
    }
   ],
   "source": [
    "rng.bytes(10)"
   ]
  },
  {
   "cell_type": "markdown",
   "metadata": {},
   "source": [
    "## Permutations\n",
    "\n",
    "Permutations are ways of how to order your data in an array. NumPy has two in its arsenal. `shuffle` and `permutation`.\n",
    "\n",
    "### `random.shuffle()`\n",
    "\n",
    "We'll start with `shuffle`. Lets say you have an array of numbers but you want them to be in random order then you apply shuffle to it. Lets say we had an array with numbers from one to ten."
   ]
  },
  {
   "cell_type": "code",
   "execution_count": 9,
   "metadata": {},
   "outputs": [],
   "source": [
    "rng = np.random.default_rng()\n",
    "arr = np.arange(10)"
   ]
  },
  {
   "cell_type": "markdown",
   "metadata": {},
   "source": [
    "to shuffle them we would wrap the array in `shuffle`:"
   ]
  },
  {
   "cell_type": "code",
   "execution_count": 10,
   "metadata": {},
   "outputs": [],
   "source": [
    "rng.shuffle(arr)"
   ]
  },
  {
   "cell_type": "code",
   "execution_count": null,
   "metadata": {},
   "outputs": [],
   "source": []
  },
  {
   "cell_type": "code",
   "execution_count": 11,
   "metadata": {},
   "outputs": [
    {
     "data": {
      "text/plain": [
       "array([[1, 2, 3],\n",
       "       [4, 5, 6],\n",
       "       [7, 8, 9]])"
      ]
     },
     "execution_count": 11,
     "metadata": {},
     "output_type": "execute_result"
    }
   ],
   "source": [
    "arr = np.array([[1, 2, 3],\n",
    "               [4, 5, 6],\n",
    "               [7, 8, 9]])\n",
    "arr"
   ]
  },
  {
   "cell_type": "code",
   "execution_count": 12,
   "metadata": {},
   "outputs": [
    {
     "data": {
      "text/plain": [
       "array([[4, 5, 6],\n",
       "       [1, 2, 3],\n",
       "       [7, 8, 9]])"
      ]
     },
     "execution_count": 12,
     "metadata": {},
     "output_type": "execute_result"
    }
   ],
   "source": [
    "rng.shuffle(arr)\n",
    "arr"
   ]
  },
  {
   "cell_type": "markdown",
   "metadata": {},
   "source": [
    "### `random.permutation()`\n",
    "\n",
    "arr = rng.permutation(arr)"
   ]
  },
  {
   "cell_type": "code",
   "execution_count": 13,
   "metadata": {},
   "outputs": [],
   "source": [
    "array = np.arange(10)\n",
    "array = rng.permutation(array)"
   ]
  },
  {
   "cell_type": "code",
   "execution_count": 14,
   "metadata": {
    "scrolled": true
   },
   "outputs": [
    {
     "data": {
      "text/plain": [
       "array([3, 1, 2, 5, 8, 0, 9, 7, 6, 4])"
      ]
     },
     "execution_count": 14,
     "metadata": {},
     "output_type": "execute_result"
    }
   ],
   "source": [
    "array"
   ]
  },
  {
   "cell_type": "markdown",
   "metadata": {},
   "source": [
    "## Distributions\n",
    "\n",
    "Certain data sets taken from the real world follow certain rules to a certain extent.\n",
    "\n",
    "### `random.binomial()`\n",
    "\n",
    "There are pre-requites that a binomial distribution must have:\n",
    "1. There are only two potential outcomes per trial.\n",
    "2. The probability of success (p) is the same across all trials.\n",
    "3. The number of trials (n) is fixed.\n",
    "4. Each trial is independent.\n",
    "\n",
    "Lets take an example [http://www.mathnstuff.com/math/spoken/here/2class/90/binom5.htm]. Lets say we have a class of 14 students and each student has the probability of 0.6 for passing the class. Well there are two possible outcomes: pass or fail. So that's pre-requite number 1 out of the way. The probability of each student passing is the same, the number of students is the same throughout and whether or not a student passes does not rely on the others passing or failing (unless they cheat but we'll assume we've honest students in our school). So we have an example that covers the criteria for a binomial distribution.\n",
    "\n",
    "\"But Seán..\" I hear you say \"what good is this information if we don't know how to use it?\" Great inquisitve question! Lets get stuck in. Here is the formula to calculate all the possible outcomes of a binomial distribution [https://www.youtube.com/watch?v=e04_wUoscBU&ab_channel=zedstatistics]:\n",
    "\n",
    "$$ P(X = x) = \\binom{n}{x}p^{x}(1-p)^{n-x} $$\n",
    "\n",
    "This can be read as: The probability that x amount of trails are successful\n",
    "\n",
    "$$ P(X = x) $$\n",
    "\n",
    "is equal to the the number of ways you can have x number of successes out of n trials\n",
    "\n",
    "$$ = \\binom{n}{x} $$\n",
    "\n",
    "Note (we will need this for our calculation below): \n",
    "\n",
    "$$ \\binom{n}{x} = \\frac{n!}{(n-x)!x!} $$\n",
    "\n",
    "multiplied by the probability of success (p) to the power of the number of successes (x)\n",
    "\n",
    "$$ p^{x} $$\n",
    "\n",
    "muliplies by the probability of failure (1-p) to the power of the number of failures (n-x)\n",
    "\n",
    "$$ (1-p)^{n-x} $$\n",
    "\n",
    "So in our example above the number of \"trials\" (n) are the tests our students take so 14 (because there are 14 students). The probability of success (p) for each student is given as 0.6. Lastly we need to choose our x, the number of successful trials we want the probability of we'll see how what it is for the case if half our students pass so x is 7. We can now use the formula to find the probability:"
   ]
  },
  {
   "cell_type": "code",
   "execution_count": 15,
   "metadata": {},
   "outputs": [],
   "source": [
    "x = 7\n",
    "n = 14\n",
    "p = 0.6\n",
    "# combination\n",
    "com = math.factorial(n)/(math.factorial(n-x)*math.factorial(x))\n",
    "\n",
    "P = com*(p**x)*((1-p)**(n-x))"
   ]
  },
  {
   "cell_type": "code",
   "execution_count": 16,
   "metadata": {},
   "outputs": [
    {
     "data": {
      "text/plain": [
       "0.15740769927168002"
      ]
     },
     "execution_count": 16,
     "metadata": {},
     "output_type": "execute_result"
    }
   ],
   "source": [
    "P"
   ]
  },
  {
   "cell_type": "markdown",
   "metadata": {},
   "source": [
    "This is the probability of number of trial successes but what we are looking for is a distribution. This distribution shows the probability for each possible outcome (i.e. from the probability of one successful trial to them all being successful). By turning our code above into a loop we can output this full distribution."
   ]
  },
  {
   "cell_type": "code",
   "execution_count": 17,
   "metadata": {},
   "outputs": [],
   "source": [
    "def binomialProbabilities(n, p):\n",
    "    probDistribution = []\n",
    "    for x in range(0, n+1):\n",
    "        com = math.factorial(n)/(math.factorial(n-x)*math.factorial(x))\n",
    "        P = com*(p**x)*((1-p)**(n-x))\n",
    "        probDistribution.append(P)\n",
    "        \n",
    "    return probDistribution"
   ]
  },
  {
   "cell_type": "code",
   "execution_count": 18,
   "metadata": {
    "scrolled": false
   },
   "outputs": [
    {
     "data": {
      "text/plain": [
       "[2.684354560000002e-06,\n",
       " 5.637144576000004e-05,\n",
       " 0.0005496215961600003,\n",
       " 0.0032977295769600016,\n",
       " 0.013603134504960007,\n",
       " 0.040809403514880015,\n",
       " 0.09182115790848003,\n",
       " 0.15740769927168002,\n",
       " 0.20659760529408,\n",
       " 0.20659760529408,\n",
       " 0.15494820397055997,\n",
       " 0.08451720216575999,\n",
       " 0.03169395081215999,\n",
       " 0.007313988648959996,\n",
       " 0.0007836416409599996]"
      ]
     },
     "execution_count": 18,
     "metadata": {},
     "output_type": "execute_result"
    }
   ],
   "source": [
    "binomialProbabilities(14, 0.6)"
   ]
  },
  {
   "cell_type": "markdown",
   "metadata": {},
   "source": [
    "The parameters of numpys `binomial()` function are the number of experiments `size`, the numbers of trials `n` in each experiment and the probability of success `p`. What the function does is uses the above probability formula to produce numbers that match the probability distribution. So lets say you ran the `binomial` function with the `n` and `p` above 100,000 times. This will produce an array with simulated data of the number of successful trials for each of the 100,000 experiments.\n",
    "\n",
    "In theory if we were to view the distribution of our experiments and the distribution of the probability they should look similar."
   ]
  },
  {
   "cell_type": "code",
   "execution_count": 19,
   "metadata": {},
   "outputs": [],
   "source": [
    "number_of_successes = rng.binomial(14, 0.6, 100000)"
   ]
  },
  {
   "cell_type": "code",
   "execution_count": 20,
   "metadata": {},
   "outputs": [
    {
     "data": {
      "text/plain": [
       "<function matplotlib.pyplot.show(*args, **kw)>"
      ]
     },
     "execution_count": 20,
     "metadata": {},
     "output_type": "execute_result"
    },
    {
     "data": {
      "image/png": "[encoded data removed]",
      "text/plain": [
       "<Figure size 432x288 with 1 Axes>"
      ]
     },
     "metadata": {
      "needs_background": "light"
     },
     "output_type": "display_data"
    }
   ],
   "source": [
    "plt.hist(number_of_successes, 14)\n",
    "plt.show"
   ]
  },
  {
   "cell_type": "code",
   "execution_count": 21,
   "metadata": {},
   "outputs": [],
   "source": [
    "probabilities = binomialProbabilities(14, 0.6)"
   ]
  },
  {
   "cell_type": "code",
   "execution_count": 22,
   "metadata": {},
   "outputs": [
    {
     "data": {
      "text/plain": [
       "[<matplotlib.lines.Line2D at 0x1e8f8b5cd90>]"
      ]
     },
     "execution_count": 22,
     "metadata": {},
     "output_type": "execute_result"
    },
    {
     "data": {
      "image/png": "[encoded data removed]",
      "text/plain": [
       "<Figure size 432x288 with 1 Axes>"
      ]
     },
     "metadata": {
      "needs_background": "light"
     },
     "output_type": "display_data"
    }
   ],
   "source": [
    "plt.plot(np.arange(15) ,probabilities)"
   ]
  },
  {
   "cell_type": "markdown",
   "metadata": {},
   "source": [
    "And what do you know! It does."
   ]
  },
  {
   "cell_type": "markdown",
   "metadata": {},
   "source": [
    "### `random.poisson()`\n",
    "\n",
    "The poisson distribution is discrete which means it can only contain a discrete set of values. The distribution describes the number of events occurring in a fixed time interval or region of opportunity. For example how many customers a shop gets every hour. In this example there is a fixed time interval of an hour and this distribution might discribe the number of events in that hour.[https://www.youtube.com/watch?v=cPOChr_kuQs&ab_channel=zedstatistics]\n",
    "\n",
    "This distribution requires only one parameter, $ \\lambda $ (the poisson distribution), which is the expected number of events per time interval. This can also be looked as the mean number of events per time interval. It is also bounded by zero and infinety, [0, $ \\infty $),\n",
    "\n",
    "Assumptions:\n",
    "1. The rate at which events occur is constant (i.e. that in a given time interval the probability of an event happening should be the exact same as every other time interval of that size).\n",
    "2. The occurrence of one event does not affect the occurrence of a subsequent event (i.e. events are independent).\n",
    "\n",
    "The probability mass function is the formula used to determine the probability that a certain number of events ($ x $) will happen in a time interval with the poisson distribution ($ \\lambda $). It is give as:\n",
    "\n",
    "$$ P(X=x) = \\frac{e^{-\\lambda} \\lambda^x}{x!} $$\n",
    "\n",
    "So given our shop example if we wanted to find the probability of a shop getting 5 customers when the shop gets an average of 3 customers per hour (our time interval for this example). Then the Probability can be worked out by plugging in our values:\n",
    "\n",
    "$$ P(X=5) = \\frac{e^{-3} 3^5}{5!} $$\n",
    "\n",
    "Which can worked out as:\n",
    "\n",
    "$$ P(X=x) = 0.101 $$\n",
    "\n",
    "We can also work it out with Python."
   ]
  },
  {
   "cell_type": "code",
   "execution_count": 23,
   "metadata": {},
   "outputs": [
    {
     "data": {
      "text/plain": [
       "0.10081881344492448"
      ]
     },
     "execution_count": 23,
     "metadata": {},
     "output_type": "execute_result"
    }
   ],
   "source": [
    "lam = 3\n",
    "x = 5\n",
    "\n",
    "poissonP = (math.exp(-lam)*(lam**x))/(math.factorial(x))\n",
    "poissonP"
   ]
  },
  {
   "cell_type": "markdown",
   "metadata": {},
   "source": [
    "Like above we are looking for a distribution. By looping over the equation above we can find the probability for each possible outcome"
   ]
  },
  {
   "cell_type": "code",
   "execution_count": 24,
   "metadata": {},
   "outputs": [
    {
     "data": {
      "text/plain": [
       "array([], dtype=float64)"
      ]
     },
     "execution_count": 24,
     "metadata": {},
     "output_type": "execute_result"
    }
   ],
   "source": [
    "probDistribution = np.array([])\n",
    "np.append(probDistribution, np.float(3.567))\n",
    "probDistribution"
   ]
  },
  {
   "cell_type": "code",
   "execution_count": 25,
   "metadata": {},
   "outputs": [
    {
     "data": {
      "text/plain": [
       "[<matplotlib.lines.Line2D at 0x1e8f8bb2c40>]"
      ]
     },
     "execution_count": 25,
     "metadata": {},
     "output_type": "execute_result"
    },
    {
     "data": {
      "image/png": "[encoded data removed]",
      "text/plain": [
       "<Figure size 432x288 with 1 Axes>"
      ]
     },
     "metadata": {
      "needs_background": "light"
     },
     "output_type": "display_data"
    }
   ],
   "source": [
    "def poissonProbability(lam):\n",
    "    probDistribution = []\n",
    "    poissonP = 0\n",
    "    for x in range(14):\n",
    "        poissonP = math.exp(-lam)*(lam**x)/math.factorial(x)\n",
    "        probDistribution.append(poissonP)\n",
    "        \n",
    "    return probDistribution\n",
    "\n",
    "\n",
    "plt.plot(poissonProbability(3))"
   ]
  },
  {
   "cell_type": "code",
   "execution_count": 26,
   "metadata": {},
   "outputs": [
    {
     "data": {
      "image/png": "[encoded data removed]",
      "text/plain": [
       "<Figure size 432x288 with 1 Axes>"
      ]
     },
     "metadata": {
      "needs_background": "light"
     },
     "output_type": "display_data"
    }
   ],
   "source": [
    "y = rng.poisson(3,1000000)\n",
    "plt.hist(y,16)\n",
    "plt.show()"
   ]
  },
  {
   "cell_type": "markdown",
   "metadata": {},
   "source": [
    "We can see from the first graph that the probability of getting 3 customers per hour is above a probability of 0.20 and that to either side of that it becomes less and less likely to get the number of customers per hour. The second graph shows the same thing only with actual events. We can see that there are over 200,000 times when 3 customers entered our store."
   ]
  },
  {
   "cell_type": "markdown",
   "metadata": {},
   "source": [
    "### `random.exponential()`\n",
    "\n",
    "A distribution must have a few requirements to be considered a exponential distribution.\n",
    "\n",
    "The first being that an exponential distribution is actually the time between events in a Poisson process (i.e. the \"inverse\" of Poisson, check the previous distribution). \n",
    "\n",
    "For example:\n",
    "\n",
    "| Poisson | Exponential |\n",
    "|:-:|:-:|\n",
    "| number of cars passing a tollgate in one hour | Number of hours between arrivals |\n",
    "|   cars per hour | hours per car |\n",
    "|   number of customers arriving at a store in a minute | number of minutes between customers arriving |\n",
    "|   customers per minute | minutes per customers |\n",
    "| **Events per single unit of time** | **Time per single event (time between events)**|\n",
    "\n",
    "An exponential distribution must have events that occur at a constant rate and these events must be independent of each other. Meaning that a car passing through a tollgate has no bearing on the time of the next car passing or the number of cars passing in an hour. When it meets these two criteria the exponential distribution can be characterized as memoryless\n",
    "\n",
    "\n",
    "\n",
    "I'm going to use the shop example from the poisson distribution explaination above. Above we said that our shop had an average of 3 customers per hour, or that our poisson distribution ($ \\lambda $) was 3. The distribution for a poisson distribution is classes as \"discrete\" meaning we can't have 2.5 customers we can either 2 or 3. In an exponential distributon it represents hours until next arrival. This will be represented with a continous curve (because we can have half an hour) which we call a probability density function. The mean for the poisson distribution is $ \\lambda $ and no surprise that mean for the exponential distributon is the inverse of this or $ \\frac{1}{\\lambda} $ otherwise know as $ \\mu $[\n",
    "[https://www.youtube.com/watch?v=2kg1O0j1J9c&ab_channel=zedstatistics]].\n",
    "\n",
    "So the mean for an exponential distributon is:\n",
    "\n",
    "$$ \\mu = \\frac{1}{\\lambda} $$\n",
    "\n",
    "So in our example we see (on average) 3 customers per hour but we could also say that we see 1 customer every 20 minutes (or $ \\frac{1}{3} $ of an hour). For our example we're going to convert to minutes so our mu is 20 minutes ($ \\mu = 20 $).\n",
    "\n",
    "So how do we get the probability that a customer will arrive in the next 10 minutes lets say. Well we can get it by the following formula:\n",
    "\n",
    "$$ P(X < x) = 1 - e^{\\frac{-x}{\\mu}} $$\n",
    "\n",
    "Filling in what we know ( $ \\mu = 20 $ and $ x = 10 $) we get:\n",
    "\n",
    "$$ P(X < 10) = 1 - e^{\\frac{-10}{20}} $$\n",
    "\n",
    "Which means our probability of a customer coming in the next 10 minutes is 0.39346934.\n",
    "\n",
    "$$ P(X < 10) = 0.39346934 $$\n",
    "\n",
    "Getting a range and graphing can see the likelihood of someone arriving after a given length of time:"
   ]
  },
  {
   "cell_type": "code",
   "execution_count": 27,
   "metadata": {},
   "outputs": [
    {
     "data": {
      "text/plain": [
       "[<matplotlib.lines.Line2D at 0x1e8f942daf0>]"
      ]
     },
     "execution_count": 27,
     "metadata": {},
     "output_type": "execute_result"
    },
    {
     "data": {
      "image/png": "[encoded data removed]",
      "text/plain": [
       "<Figure size 432x288 with 1 Axes>"
      ]
     },
     "metadata": {
      "needs_background": "light"
     },
     "output_type": "display_data"
    }
   ],
   "source": [
    "mu = 20\n",
    "likelihood = []\n",
    "for x in range(120):\n",
    "    L = 1 - math.exp(-x/mu)\n",
    "    likelihood.append(L)\n",
    "    \n",
    "plt.plot(likelihood)"
   ]
  },
  {
   "cell_type": "markdown",
   "metadata": {},
   "source": [
    "The above graph represents the likelihood of a customer entering the shop in a certain time interval. Or the probabilty that someone will walk in in the next x amount of minutes. You'll notice that the longer we wait the more likely it is that someone will arrive. The x-axis is in minutes and we can see that after 60 minutes it becomes rapidly more likely that a customer will enter.\n",
    "\n",
    "Its probability density function is given with the equation [https://en.wikipedia.org/wiki/Exponential_distribution]:\n",
    "\n",
    "$$ P(X < x) = \\frac{1}{\\mu} e^{\\frac{-x}{\\mu}} $$\n",
    "\n",
    "This will show the probability of the next arrival will be in x minutes. We can represent this with Python."
   ]
  },
  {
   "cell_type": "code",
   "execution_count": 28,
   "metadata": {},
   "outputs": [
    {
     "data": {
      "text/plain": [
       "[<matplotlib.lines.Line2D at 0x1e8f9485970>]"
      ]
     },
     "execution_count": 28,
     "metadata": {},
     "output_type": "execute_result"
    },
    {
     "data": {
      "image/png": "[encoded data removed]",
      "text/plain": [
       "<Figure size 432x288 with 1 Axes>"
      ]
     },
     "metadata": {
      "needs_background": "light"
     },
     "output_type": "display_data"
    }
   ],
   "source": [
    "def exponentialProbability(mu):\n",
    "    probDistribution = []\n",
    "    for x in range(200):\n",
    "        exponentialP = (1/mu)*math.exp(-x/mu)\n",
    "        probDistribution.append(exponentialP)\n",
    "\n",
    "    return probDistribution\n",
    "\n",
    "plt.plot(exponentialProbability(20))"
   ]
  },
  {
   "cell_type": "markdown",
   "metadata": {},
   "source": [
    "Above you can see that the probability of a time lets say $ x = 25 $ or 25 minutes. We can infer that the probability of someone arriving in the next 25 minutes is just above 0.01.\n",
    "\n",
    "Similarly if we use the `exponential()` function to create a sample size of 50,000 (`size`) where our $ \\mu $ is 20 (`scale` when using the function) we can see a similar shape as above [https://numpy.org/doc/stable/reference/random/generated/numpy.random.Generator.exponential.html#numpy.random.Generator.exponential]. Showing that there are over 30,000 times a person arrived in about 20 minutes and it continuly gets less the longer the time `x`."
   ]
  },
  {
   "cell_type": "code",
   "execution_count": 29,
   "metadata": {},
   "outputs": [
    {
     "data": {
      "image/png": "[encoded data removed]",
      "text/plain": [
       "<Figure size 432x288 with 1 Axes>"
      ]
     },
     "metadata": {
      "needs_background": "light"
     },
     "output_type": "display_data"
    }
   ],
   "source": [
    "plt.hist(rng.exponential(scale = 20, size = 50000), 14)\n",
    "plt.show()"
   ]
  },
  {
   "cell_type": "markdown",
   "metadata": {},
   "source": [
    "### `random.normal()`\n",
    "\n",
    "The probability distribution function:\n",
    "\n",
    "$$ P(x) = \\frac{1}{\\sqrt{2\\pi\\sigma^2}}e^{-\\frac{(x-\\mu)^2}{2\\sigma^2}} $$\n",
    "\n",
    "[https://www.youtube.com/watch?v=RKdB1d5-OE0&list=PLTNMv857s9WVzutwxaMb0YZKW7hoveGLS&index=6&ab_channel=zedstatistics]\n",
    "\n"
   ]
  },
  {
   "cell_type": "code",
   "execution_count": 41,
   "metadata": {},
   "outputs": [
    {
     "data": {
      "image/png": "[encoded data removed]",
      "text/plain": [
       "<Figure size 432x288 with 1 Axes>"
      ]
     },
     "metadata": {
      "needs_background": "light"
     },
     "output_type": "display_data"
    }
   ],
   "source": [
    "array = rng.normal(14.5,0.5,100000)\n",
    "plt.hist(array, 16)\n",
    "plt.show()"
   ]
  },
  {
   "cell_type": "code",
   "execution_count": 49,
   "metadata": {},
   "outputs": [
    {
     "data": {
      "text/plain": [
       "3.141592653589793"
      ]
     },
     "execution_count": 49,
     "metadata": {},
     "output_type": "execute_result"
    }
   ],
   "source": [
    "math.pi"
   ]
  },
  {
   "cell_type": "code",
   "execution_count": 125,
   "metadata": {},
   "outputs": [
    {
     "data": {
      "image/png": "[encoded data removed]",
      "text/plain": [
       "<Figure size 432x288 with 1 Axes>"
      ]
     },
     "metadata": {
      "needs_background": "light"
     },
     "output_type": "display_data"
    }
   ],
   "source": [
    "mu = 14.5 # MOST LIKELY \n",
    "std = 0.5 # \n",
    "\n",
    "\n",
    "arr = []\n",
    "x = 0\n",
    "while x < 30:\n",
    "    left = 1/std*math.sqrt(2*math.pi)\n",
    "    #left = 1/math.sqrt(2*math.pi)\n",
    "    right = math.exp(-((x-mu)**2/(2*std**2)))\n",
    "    #right = math.exp(-0.5*(x**2))\n",
    "    P = left*right\n",
    "    arr.append(P)\n",
    "    x = x + 1\n",
    "plt.plot(bins, 1/(std * np.sqrt(2 * np.pi)) *\n",
    "           np.exp( - (bins - mu)**2 / (2 * std**2) ),\n",
    "     linewidth=2, color='r')\n",
    "\n",
    "plt.axvline(mu)\n",
    "plt.plot(arr)\n",
    "plt.show()\n",
    "#arr"
   ]
  },
  {
   "cell_type": "markdown",
   "metadata": {},
   "source": [
    "if enough time\n",
    "\n",
    "### `random.chisquare()`\n",
    "\n",
    "[https://www.youtube.com/watch?v=80ffqpZdKiA&list=PLTNMv857s9WVzutwxaMb0YZKW7hoveGLS&index=8&ab_channel=zedstatistics]\n",
    "\n",
    "if not\n",
    "\n",
    "### `random.uniform()`"
   ]
  },
  {
   "cell_type": "code",
   "execution_count": 112,
   "metadata": {},
   "outputs": [],
   "source": [
    "mu, sigma = 14.5, 0.5 # mean and standard deviation\n",
    "s = np.random.default_rng().normal(mu, sigma, 1000)"
   ]
  },
  {
   "cell_type": "code",
   "execution_count": 113,
   "metadata": {},
   "outputs": [
    {
     "data": {
      "text/plain": [
       "array([14.25329741, 14.51608568, 14.76021628, 14.58850611, 14.73649693,\n",
       "       13.85182369, 14.72976191, 14.28858085, 14.07752889, 15.25652934,\n",
       "       14.12964746, 15.26714507, 14.58215319, 14.11250991, 14.45200884,\n",
       "       14.36317746, 14.64834615, 14.24107557, 14.5337402 , 14.25287521,\n",
       "       14.97977627, 15.13330401, 15.12319516, 15.49466973, 14.30197927,\n",
       "       14.94239995, 15.17846713, 13.56336391, 14.88537505, 14.85153204,\n",
       "       15.03994441, 14.43986085, 15.23726025, 14.67516858, 14.59014457,\n",
       "       15.47652458, 15.30668665, 15.08428627, 14.74665385, 14.39344147,\n",
       "       14.26937865, 14.23215151, 13.45711192, 14.24371094, 14.21477685,\n",
       "       14.76255419, 15.2242342 , 14.50069071, 14.49834331, 14.02486719,\n",
       "       14.98262284, 14.55273015, 14.04925061, 14.51600681, 14.27303341,\n",
       "       14.50634107, 14.85275487, 14.89345142, 15.35952691, 13.93031047,\n",
       "       13.77226675, 14.96310599, 14.50317049, 14.29048821, 13.72048586,\n",
       "       14.70675658, 14.43925053, 14.30002891, 14.23298475, 14.45745449,\n",
       "       14.78417285, 15.09659968, 13.73792672, 15.59077724, 14.39579156,\n",
       "       14.53410553, 14.38110873, 14.78236691, 15.00568218, 14.86591236,\n",
       "       14.41351929, 14.17909707, 15.01929422, 13.82895523, 14.16073445,\n",
       "       14.3995889 , 14.60149593, 14.49047091, 14.76821414, 14.79298444,\n",
       "       14.89714487, 14.38629833, 14.16685522, 14.55561264, 14.520522  ,\n",
       "       14.50446169, 14.94042934, 14.83689039, 14.73269366, 13.95741522,\n",
       "       14.76236735, 14.22666959, 14.74760447, 14.67233937, 14.48553348,\n",
       "       14.33534562, 15.59067492, 15.00890784, 14.08729473, 15.44546048,\n",
       "       14.45758589, 14.17676495, 14.06279081, 15.37140331, 15.29077928,\n",
       "       14.16420582, 14.02420284, 13.99479271, 14.69705916, 14.42752453,\n",
       "       14.17445734, 14.83926206, 14.77770346, 13.75519103, 13.93899294,\n",
       "       15.15847805, 14.78708979, 14.56888239, 14.30287709, 14.50916263,\n",
       "       14.39027492, 14.55626911, 15.62601206, 13.07223599, 15.55299908,\n",
       "       14.27060602, 14.39946657, 14.32888714, 14.88437668, 15.22738657,\n",
       "       13.51058852, 14.7966421 , 14.58057932, 14.56820982, 14.4669379 ,\n",
       "       13.9284452 , 14.53748309, 14.66236065, 13.68981405, 13.8638772 ,\n",
       "       14.68387652, 14.50726258, 13.77506647, 14.47828372, 14.45364244,\n",
       "       14.20854543, 13.91200597, 14.91426422, 14.201494  , 14.65737191,\n",
       "       15.52181595, 14.55057511, 13.83742403, 14.73140503, 14.20483377,\n",
       "       14.63410424, 14.69502456, 14.40645112, 14.62644575, 13.3818669 ,\n",
       "       14.14611883, 14.35443138, 14.35766745, 14.07195996, 14.63876459,\n",
       "       14.44377759, 13.90028063, 14.17589316, 14.43215279, 14.76369568,\n",
       "       14.1364121 , 13.8732127 , 13.65661404, 14.81908074, 13.53295914,\n",
       "       13.97010834, 14.76056715, 15.04644821, 14.02281457, 14.75146242,\n",
       "       14.48225355, 14.5286538 , 14.92439027, 14.20845766, 14.95527884,\n",
       "       15.10761063, 14.08555224, 14.93747343, 13.77690804, 14.80174841,\n",
       "       15.31098583, 15.2421903 , 14.3783085 , 14.96886001, 14.08573549,\n",
       "       13.88442361, 15.1656476 , 14.82281146, 13.82876227, 13.93938623,\n",
       "       14.81161027, 14.52153217, 14.75446241, 15.32595413, 14.16436736,\n",
       "       15.08587023, 14.17941966, 13.82717649, 14.23920203, 14.20573621,\n",
       "       14.12405682, 14.30134562, 14.22213699, 15.0364535 , 14.27066482,\n",
       "       14.36591499, 14.09313367, 14.91756867, 14.07717855, 14.2970905 ,\n",
       "       15.12543271, 14.80821486, 13.24431258, 12.52145524, 14.04689595,\n",
       "       15.1000845 , 14.0965711 , 14.38520961, 14.58004983, 14.17938688,\n",
       "       13.5348389 , 15.18177423, 13.86956775, 14.83191096, 13.49648513,\n",
       "       14.11623074, 14.48510708, 13.37406747, 14.09050872, 14.48183465,\n",
       "       13.55960001, 15.23606737, 13.95969674, 14.41236657, 15.0467535 ,\n",
       "       14.63882239, 15.01526933, 14.18514045, 15.51244888, 14.04564077,\n",
       "       14.60306484, 13.37808693, 15.079208  , 14.22918901, 15.11018694,\n",
       "       15.35993081, 13.90997583, 14.66767091, 14.47214019, 14.13209118,\n",
       "       14.80332062, 14.32813456, 14.36362289, 14.78677487, 14.68154558,\n",
       "       14.33343403, 15.5952556 , 13.66928811, 14.82693979, 14.21918412,\n",
       "       15.05286382, 14.86099641, 14.04904834, 13.834739  , 14.95963241,\n",
       "       15.21896481, 14.03161021, 14.62123251, 14.54836097, 14.74233901,\n",
       "       14.81713284, 13.38408051, 14.39620935, 14.5476848 , 14.45858823,\n",
       "       14.22862702, 13.9223063 , 13.26221559, 14.20996024, 14.50768866,\n",
       "       14.13944445, 13.79697969, 14.88253292, 14.81781579, 14.6681086 ,\n",
       "       13.92924894, 14.30986899, 15.6087254 , 14.49700716, 13.47024977,\n",
       "       14.93638436, 13.73040061, 14.41359927, 14.53417597, 14.90877804,\n",
       "       14.41974768, 14.54653009, 14.93347708, 14.75211998, 14.55164474,\n",
       "       14.80777294, 15.14551965, 13.39201669, 15.35403925, 14.25239158,\n",
       "       13.26854652, 13.72300953, 14.61787546, 14.74183322, 14.24077583,\n",
       "       15.01893272, 14.70036201, 14.39600428, 14.42636403, 14.84617043,\n",
       "       14.76849447, 14.43177103, 15.47788637, 14.48437537, 14.34431009,\n",
       "       15.07507366, 14.90413534, 14.72159628, 14.3683894 , 14.61911118,\n",
       "       13.72030658, 14.95059544, 14.34756362, 13.48390261, 14.52200872,\n",
       "       14.39900432, 14.25048527, 14.7003139 , 13.77335484, 14.15530097,\n",
       "       13.92052876, 14.80350215, 14.14763824, 14.84298393, 14.2985318 ,\n",
       "       14.04758701, 14.03812712, 14.12065264, 14.47597857, 13.97327689,\n",
       "       14.29790199, 14.67301803, 14.96257594, 14.92681113, 13.61473319,\n",
       "       14.38215069, 13.85056678, 15.15117434, 14.6819654 , 13.78320249,\n",
       "       14.93574637, 14.72474787, 14.15141264, 14.90383803, 14.75718287,\n",
       "       14.19944223, 14.28481594, 14.63381962, 14.59671479, 14.20960088,\n",
       "       14.43519085, 14.19499802, 14.64936548, 14.84481057, 14.21929573,\n",
       "       13.95180383, 14.88598457, 13.86646455, 14.44041838, 15.10160681,\n",
       "       13.49355309, 14.89460031, 13.68417912, 14.25944162, 14.13336   ,\n",
       "       14.62808767, 14.52317035, 14.67224636, 13.49156146, 14.55732078,\n",
       "       14.51964558, 13.58013145, 15.56042908, 14.85294727, 13.84035637,\n",
       "       14.09017821, 14.42563138, 14.20555619, 14.61646975, 14.15216669,\n",
       "       14.52051466, 15.08133749, 13.75147232, 15.00346194, 14.10147257,\n",
       "       15.17631597, 14.66247612, 14.26351172, 14.27229373, 13.97174191,\n",
       "       14.57515347, 14.42760939, 14.64380414, 14.32254866, 14.0422452 ,\n",
       "       14.18627788, 14.67164673, 14.84032453, 13.65459238, 14.27702357,\n",
       "       15.46718783, 14.77416583, 13.71605964, 14.14023423, 13.74730838,\n",
       "       14.11958135, 14.38033046, 14.68999407, 14.67889261, 14.3698399 ,\n",
       "       14.33756413, 14.73160557, 13.75116366, 14.24501854, 14.31485335,\n",
       "       14.27286416, 15.06375562, 14.76902589, 13.78110164, 14.04742335,\n",
       "       14.95050921, 14.39203286, 14.46462748, 14.69661946, 14.31786658,\n",
       "       14.96441239, 14.75403507, 14.1857656 , 13.72632947, 14.89122554,\n",
       "       13.98133276, 14.26264045, 15.25651706, 15.24538394, 13.93659077,\n",
       "       15.31862884, 14.28069595, 15.04821366, 14.30189192, 15.20724143,\n",
       "       14.58049282, 14.60882495, 15.1833808 , 14.45950399, 13.71103839,\n",
       "       14.34631985, 14.68890253, 14.47865349, 13.65082588, 14.51942598,\n",
       "       13.33167639, 15.19068448, 14.18040412, 14.27991018, 14.29087835,\n",
       "       15.21502735, 14.15130145, 14.05266117, 13.66898119, 14.44704674,\n",
       "       14.57642418, 14.92225243, 13.73164396, 15.11718024, 14.18348286,\n",
       "       14.47351158, 14.81599195, 13.42832842, 13.35920294, 14.75711355,\n",
       "       14.08341682, 14.19557517, 13.3393309 , 15.07039249, 14.50029755,\n",
       "       15.36299626, 14.28378466, 13.91705004, 14.95838485, 13.5423162 ,\n",
       "       13.98198231, 14.54505169, 13.940593  , 13.99486419, 14.44256653,\n",
       "       14.253813  , 14.33100293, 14.21918647, 14.60387136, 15.1245435 ,\n",
       "       14.79651475, 14.51538818, 13.97639121, 13.76664196, 14.26035843,\n",
       "       14.55422317, 14.99192206, 15.09527222, 14.80056457, 14.2580721 ,\n",
       "       15.04110495, 13.71930961, 14.74048543, 14.15367071, 13.8874087 ,\n",
       "       14.15190628, 14.69392857, 14.92551299, 15.22272688, 14.53230178,\n",
       "       14.65732044, 14.02561567, 16.19222637, 14.3698703 , 14.17629117,\n",
       "       14.59378419, 13.86485802, 14.31753581, 14.13056547, 14.35592816,\n",
       "       14.78896368, 14.19096796, 15.28251926, 14.88846737, 14.99809302,\n",
       "       14.8044684 , 15.24327656, 13.90471332, 15.12018348, 14.76449919,\n",
       "       12.83518731, 14.68720186, 14.38434138, 15.01851493, 15.27716415,\n",
       "       14.2459068 , 14.02917511, 14.33924673, 14.38114664, 15.18510965,\n",
       "       15.16597476, 15.40897009, 14.95217542, 14.6540554 , 13.68694176,\n",
       "       15.17685642, 13.9205716 , 14.69061147, 14.48276461, 14.16806603,\n",
       "       14.74142993, 14.68748753, 14.25954313, 14.33474835, 14.56321977,\n",
       "       14.32984968, 15.17909585, 14.3288107 , 14.28996461, 14.56393157,\n",
       "       14.42994108, 14.90787304, 14.31483056, 14.25587033, 14.53520567,\n",
       "       14.29099322, 14.17177925, 14.24950516, 15.21588108, 13.7320342 ,\n",
       "       15.15282038, 14.81227731, 14.45838763, 14.00126491, 14.47279466,\n",
       "       13.57826748, 15.07682412, 14.78942374, 13.38273707, 15.37093024,\n",
       "       14.03936424, 14.14252525, 14.88245884, 14.46186382, 14.50448411,\n",
       "       15.32864372, 14.49164841, 14.42667639, 15.30405278, 15.05956267,\n",
       "       14.88251882, 14.66468118, 14.61515386, 15.18101091, 14.65267786,\n",
       "       14.47444127, 15.21543833, 14.2054218 , 14.62759142, 15.53248109,\n",
       "       14.36531792, 15.12935882, 14.11129129, 14.30122566, 14.94775255,\n",
       "       14.40865332, 13.6391181 , 14.32553912, 15.40368891, 14.30297475,\n",
       "       13.77126596, 14.48396485, 14.25043204, 14.68787995, 15.34893813,\n",
       "       14.72962045, 14.90024275, 14.25600911, 14.4388667 , 14.46020327,\n",
       "       15.24485693, 14.63029931, 15.26083025, 14.38087216, 14.88304018,\n",
       "       14.33149025, 14.91489238, 14.43577598, 13.82494989, 14.79000347,\n",
       "       14.81923844, 13.95535837, 14.98979153, 14.42740236, 14.18307163,\n",
       "       13.99281661, 15.29870341, 14.17006066, 13.54626177, 14.34250157,\n",
       "       14.67028847, 14.07580084, 14.89069378, 14.75283758, 14.25020307,\n",
       "       14.69692531, 13.9911919 , 14.19499255, 14.7170276 , 14.34924746,\n",
       "       13.95211033, 14.32179125, 14.09241698, 14.72468445, 14.90574815,\n",
       "       14.69150367, 14.75491091, 14.31185491, 14.75593009, 14.89015783,\n",
       "       14.8532274 , 15.50194603, 13.96978113, 14.06762945, 15.00659096,\n",
       "       13.99462513, 13.94191746, 14.02809556, 15.24381477, 14.40938611,\n",
       "       14.8160015 , 14.33380707, 13.49937117, 15.3915773 , 13.64021785,\n",
       "       14.08501729, 14.57477206, 14.89369217, 15.03798924, 14.84946847,\n",
       "       13.93684751, 13.35741459, 15.30211807, 13.60122876, 14.65460176,\n",
       "       14.31801031, 14.12615076, 14.83298613, 14.60984123, 14.60379567,\n",
       "       13.69901202, 14.35531483, 14.11430765, 14.43290537, 14.84295253,\n",
       "       13.66564989, 14.29549666, 13.69232146, 12.88998359, 14.48424053,\n",
       "       15.32935213, 15.39028271, 14.26145594, 14.9097252 , 14.2124311 ,\n",
       "       14.87390159, 13.93730241, 14.92429704, 14.41863096, 13.96968829,\n",
       "       14.01119274, 14.2375002 , 14.95433073, 15.05994929, 14.8783322 ,\n",
       "       14.87629494, 13.65167499, 14.90346495, 14.20815057, 14.61168441,\n",
       "       15.05420962, 14.52924175, 14.59810491, 14.86389329, 14.59904611,\n",
       "       14.48076761, 14.70250293, 14.77694986, 14.30459192, 14.22388559,\n",
       "       14.19686745, 14.76707416, 14.39983169, 14.3882849 , 14.79509947,\n",
       "       14.64380041, 14.44203414, 14.36338092, 14.54853641, 14.8521323 ,\n",
       "       15.49476688, 14.95434707, 15.3745666 , 14.13462332, 14.13746113,\n",
       "       14.23742251, 14.56037497, 14.84462463, 14.42139952, 13.61866703,\n",
       "       14.36804052, 14.37260277, 14.20678768, 14.7248582 , 13.9563684 ,\n",
       "       13.82129088, 13.94126047, 15.12204269, 14.49633857, 14.9976051 ,\n",
       "       14.87874814, 14.28367686, 14.96021001, 14.57816338, 14.32754265,\n",
       "       13.76268016, 15.50695942, 14.70462049, 14.22427142, 14.7869195 ,\n",
       "       14.36205452, 15.30994854, 14.01896856, 14.211268  , 14.20492143,\n",
       "       14.67698308, 15.54556265, 14.44434957, 14.27948562, 13.95818875,\n",
       "       14.242738  , 15.07229572, 14.36017136, 14.33773697, 15.36278466,\n",
       "       14.48989242, 14.58213312, 14.30845979, 14.1658388 , 13.14007246,\n",
       "       15.51351804, 13.63506862, 13.48610236, 14.34156296, 14.03805365,\n",
       "       14.88800092, 15.05371264, 14.41012047, 14.35590138, 14.53906013,\n",
       "       14.2981234 , 14.77713385, 13.38036929, 14.35044081, 14.57230544,\n",
       "       15.45726403, 14.45240339, 14.2903789 , 15.12551334, 14.8213868 ,\n",
       "       14.64303552, 14.45527896, 14.16529226, 13.97334514, 15.08141096,\n",
       "       14.19022974, 14.41980987, 13.38841029, 13.72118702, 14.7116015 ,\n",
       "       14.42519851, 14.8318844 , 14.32785591, 15.10245176, 14.04241001,\n",
       "       14.99929879, 13.89236917, 14.08361866, 14.20255003, 15.50848836,\n",
       "       14.25236828, 14.73507876, 14.62918093, 15.0557874 , 14.87747437,\n",
       "       15.12571568, 14.81430003, 14.37113136, 15.20542469, 14.96126744,\n",
       "       14.63622297, 14.27000533, 15.08644054, 15.1274115 , 15.54810956,\n",
       "       14.45116066, 14.91928501, 15.27348063, 14.9403201 , 14.5859341 ,\n",
       "       14.75972387, 14.0544213 , 14.56228612, 14.79008005, 14.16792013,\n",
       "       15.55661275, 15.07740602, 13.32711632, 14.96420484, 14.77486293,\n",
       "       14.29869876, 14.23399094, 14.56248078, 15.0260453 , 14.79300018,\n",
       "       14.62248434, 14.44787218, 13.99255161, 15.79548217, 13.96175483,\n",
       "       14.41553604, 13.30658883, 14.23254658, 14.3795177 , 14.32778232,\n",
       "       14.5622189 , 14.65382739, 14.69285033, 14.49678616, 14.87598089,\n",
       "       14.12571951, 14.05499559, 13.32010096, 14.58776062, 14.51793327,\n",
       "       14.42471689, 15.70793223, 15.50594363, 14.31972532, 14.43968434,\n",
       "       13.66849507, 14.71911229, 14.50938788, 14.2219749 , 15.07899678,\n",
       "       14.99612099, 14.23279633, 14.80256925, 14.97338834, 14.38420687,\n",
       "       14.889474  , 14.84689314, 13.52504063, 13.97308091, 14.11329585,\n",
       "       14.58483761, 13.55049909, 13.98524509, 14.52939717, 15.42356799,\n",
       "       14.07546349, 14.4477371 , 14.84501577, 14.47352426, 14.62749111,\n",
       "       13.8318502 , 14.6244948 , 14.95580558, 13.9536974 , 14.61648761,\n",
       "       14.82767631, 14.50350631, 13.81938144, 13.70625055, 14.11479339,\n",
       "       14.5414867 , 14.21923435, 14.58580357, 14.57665536, 15.31707952,\n",
       "       14.65037725, 14.73086102, 14.37324651, 14.09771545, 14.24712921,\n",
       "       14.12897941, 15.41909177, 15.26692197, 14.72806239, 15.2551184 ,\n",
       "       14.95455733, 14.7391567 , 14.51137537, 13.87604317, 14.47148739,\n",
       "       14.5182823 , 13.91583175, 14.57715611, 14.44389027, 14.77237968,\n",
       "       15.40491833, 14.37533807, 15.40093138, 14.1079418 , 14.19539883,\n",
       "       13.70487988, 14.52222382, 14.53346074, 14.20286241, 14.91525874,\n",
       "       14.92203928, 13.68642927, 13.57210836, 14.7292844 , 14.12904529])"
      ]
     },
     "execution_count": 113,
     "metadata": {},
     "output_type": "execute_result"
    }
   ],
   "source": [
    "s"
   ]
  },
  {
   "cell_type": "code",
   "execution_count": 114,
   "metadata": {},
   "outputs": [
    {
     "data": {
      "text/plain": [
       "0.01413579608306037"
      ]
     },
     "execution_count": 114,
     "metadata": {},
     "output_type": "execute_result"
    }
   ],
   "source": [
    "abs(mu - np.mean(s))"
   ]
  },
  {
   "cell_type": "code",
   "execution_count": 115,
   "metadata": {},
   "outputs": [
    {
     "data": {
      "text/plain": [
       "0.000983501095888184"
      ]
     },
     "execution_count": 115,
     "metadata": {},
     "output_type": "execute_result"
    }
   ],
   "source": [
    "abs(sigma - np.std(s, ddof=1))"
   ]
  },
  {
   "cell_type": "code",
   "execution_count": 124,
   "metadata": {},
   "outputs": [
    {
     "data": {
      "image/png": "[encoded data removed]",
      "text/plain": [
       "<Figure size 432x288 with 1 Axes>"
      ]
     },
     "metadata": {
      "needs_background": "light"
     },
     "output_type": "display_data"
    }
   ],
   "source": [
    "count, bins, ignored = plt.hist(s, 30, density=True)\n",
    "plt.plot( 1/(sigma * np.sqrt(2 * np.pi)) *\n",
    "               np.exp( - (bins - mu)**2 / (2 * sigma**2) ),\n",
    "         linewidth=2, color='r')\n",
    "plt.axvline(14.5)\n",
    "\n",
    "plt.show()"
   ]
  },
  {
   "cell_type": "code",
   "execution_count": null,
   "metadata": {},
   "outputs": [],
   "source": []
  },
  {
   "cell_type": "code",
   "execution_count": null,
   "metadata": {},
   "outputs": [],
   "source": []
  },
  {
   "cell_type": "code",
   "execution_count": null,
   "metadata": {},
   "outputs": [],
   "source": []
  }
 ],
 "metadata": {
  "kernelspec": {
   "display_name": "Python 3",
   "language": "python",
   "name": "python3"
  },
  "language_info": {
   "codemirror_mode": {
    "name": "ipython",
    "version": 3
   },
   "file_extension": ".py",
   "mimetype": "text/x-python",
   "name": "python",
   "nbconvert_exporter": "python",
   "pygments_lexer": "ipython3",
   "version": "3.8.3"
  }
 },
 "nbformat": 4,
 "nbformat_minor": 4
}
