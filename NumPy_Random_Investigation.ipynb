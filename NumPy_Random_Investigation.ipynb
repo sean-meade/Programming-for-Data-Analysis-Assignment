{
 "cells": [
  {
   "cell_type": "code",
   "execution_count": 5,
   "metadata": {},
   "outputs": [],
   "source": [
    "from numpy import random\n",
    "import matplotlib.pyplot as plt"
   ]
  },
  {
   "cell_type": "markdown",
   "metadata": {},
   "source": [
    "# Programming for Data Analysis Assignment\n",
    "\n",
    "## Investigation of the NumPy Random Package\n",
    "\n",
    "#### Problem Statement:\n",
    "> The following assignment concerns the numpy.random package in Python [2]. You are\n",
    "required to create a Jupyter [5] notebook explaining the use of the package, including\n",
    "detailed explanations of at least five of the distributions provided for in the package.\n",
    "There are four distinct tasks to be carried out in your Jupyter notebook.\n",
    "1. Explain the overall purpose of the package.\n",
    "2. Explain the use of the “Simple random data” and “Permutations” functions.\n",
    "3. Explain the use and purpose of at least five “Distributions” functions.\n",
    "4. Explain the use of seeds in generating pseudorandom numbers.\n",
    "\n",
    "### 1. Explain the overall purpose of the package.\n",
    "\n",
    "* Explain what NumPy is & what it's used for.\n",
    "* Explain what np.random is used for in relation to what NumPy is used for.\n",
    "\n",
    "### 2. Explain the use of the “Simple random data” and “Permutations” functions.\n",
    "\n",
    "**Simple Random Data Functions**:\n",
    "* rand(*d0, d1, ..., dn*):\n",
    "    This random sample produces values from zero and up to but not including 1 or over [0, 1) [1]. If no argument is given then a single float is returned."
   ]
  },
  {
   "cell_type": "code",
   "execution_count": 2,
   "metadata": {},
   "outputs": [
    {
     "data": {
      "text/plain": [
       "0.6222215737374307"
      ]
     },
     "execution_count": 2,
     "metadata": {},
     "output_type": "execute_result"
    }
   ],
   "source": [
    "random.rand()"
   ]
  },
  {
   "cell_type": "markdown",
   "metadata": {},
   "source": [
    "Otherwise it returns a multi-dimensional array. The number of arugments passed is the number of dimensions the output array will have. The values should be positive integers and represent the number of values with that dimension. Below shows an example of an array that is one dimensional with three values."
   ]
  },
  {
   "cell_type": "code",
   "execution_count": 3,
   "metadata": {},
   "outputs": [
    {
     "data": {
      "text/plain": [
       "array([0.58905882, 0.07923316, 0.24797091])"
      ]
     },
     "execution_count": 3,
     "metadata": {},
     "output_type": "execute_result"
    }
   ],
   "source": [
    "random.rand(3)"
   ]
  },
  {
   "cell_type": "markdown",
   "metadata": {},
   "source": [
    "Next we will add a second dimension with a different value, four, to show where the difference is between one and two dimensions."
   ]
  },
  {
   "cell_type": "code",
   "execution_count": 4,
   "metadata": {},
   "outputs": [
    {
     "data": {
      "text/plain": [
       "array([[0.2982746 , 0.68378011, 0.98765326, 0.58403701],\n",
       "       [0.62709895, 0.19443177, 0.62967994, 0.7966053 ],\n",
       "       [0.36022795, 0.699653  , 0.37472505, 0.60686321]])"
      ]
     },
     "execution_count": 4,
     "metadata": {},
     "output_type": "execute_result"
    }
   ],
   "source": [
    "random.rand(3, 4)"
   ]
  },
  {
   "cell_type": "markdown",
   "metadata": {},
   "source": [
    "Here we can see our first dimension with three values just this time there is a second dimension which gives us four values for every value we have in the first dimension.\n",
    "\n",
    "The purpose of this package is to create an array of random data with n number of dimensions."
   ]
  },
  {
   "cell_type": "markdown",
   "metadata": {},
   "source": [
    "* randn()"
   ]
  },
  {
   "cell_type": "markdown",
   "metadata": {},
   "source": [
    "* randint()"
   ]
  },
  {
   "cell_type": "markdown",
   "metadata": {},
   "source": [
    "* random_integers()"
   ]
  },
  {
   "cell_type": "markdown",
   "metadata": {},
   "source": [
    "* random_sample()"
   ]
  },
  {
   "cell_type": "markdown",
   "metadata": {},
   "source": [
    "* random()"
   ]
  },
  {
   "cell_type": "markdown",
   "metadata": {},
   "source": [
    "* ranf()\n",
    "\n",
    "* sample()\n",
    "\n",
    "* choice()\n",
    "\n",
    "* bytes()\n",
    "\n",
    "* Permutations Functions\n",
    "    * shuffle()\n",
    "    * permutation()\n",
    "    \n",
    "### 3. Explain the use and purpose of at least five “Distributions” functions.\n",
    "    \n",
    "* beta()\n",
    "    - purpose\n",
    "    - use\n",
    "* binomial()\n",
    "    - purpose\n",
    "    - use\n",
    "* binomial()\n",
    "    - purpose\n",
    "    - use\n",
    "* dirichlet()\n",
    "    - purpose\n",
    "    - use\n",
    "* exponential()\n",
    "    - purpose\n",
    "    - use\n",
    "\n",
    "### 4. Explain the use of seeds in generating pseudorandom numbers."
   ]
  },
  {
   "cell_type": "code",
   "execution_count": null,
   "metadata": {},
   "outputs": [],
   "source": []
  }
 ],
 "metadata": {
  "kernelspec": {
   "display_name": "Python 3",
   "language": "python",
   "name": "python3"
  },
  "language_info": {
   "codemirror_mode": {
    "name": "ipython",
    "version": 3
   },
   "file_extension": ".py",
   "mimetype": "text/x-python",
   "name": "python",
   "nbconvert_exporter": "python",
   "pygments_lexer": "ipython3",
   "version": "3.8.3"
  }
 },
 "nbformat": 4,
 "nbformat_minor": 4
}
