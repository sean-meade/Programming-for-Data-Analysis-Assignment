{
 "cells": [
  {
   "cell_type": "markdown",
   "metadata": {},
   "source": [
    "# Programming for Data Analysis Assignment\n",
    "\n",
    "## Investigation of the NumPy Random Package\n",
    "\n",
    "#### Problem Statement:\n",
    "> The following assignment concerns the numpy.random package in Python [2]. You are\n",
    "required to create a Jupyter [5] notebook explaining the use of the package, including\n",
    "detailed explanations of at least five of the distributions provided for in the package.\n",
    "There are four distinct tasks to be carried out in your Jupyter notebook.\n",
    "1. Explain the overall purpose of the package.\n",
    "2. Explain the use of the “Simple random data” and “Permutations” functions.\n",
    "3. Explain the use and purpose of at least five “Distributions” functions.\n",
    "4. Explain the use of seeds in generating pseudorandom numbers.\n",
    "\n",
    "### 1. Explain the overall purpose of the package.\n",
    "\n",
    "* Explain what NumPy is & what it's used for.\n",
    "* Explain what np.random is used for in relation to what NumPy is used for.\n",
    "\n",
    "### 2. Explain the use of the “Simple random data” and “Permutations” functions.\n",
    "\n",
    "* Simple Random Data Functions\n",
    "    * rand()\n",
    "    * randn()\n",
    "    * randint()\n",
    "    * random_integers()\n",
    "    * random_sample()\n",
    "    * random()\n",
    "    * ranf()\n",
    "    * sample()\n",
    "    * choice()\n",
    "    * bytes()\n",
    "* Permutations Functions\n",
    "    * shuffle()\n",
    "    * permutation()\n",
    "    \n",
    "### 3. Explain the use and purpose of at least five “Distributions” functions.\n",
    "    \n",
    "* beta()\n",
    "    - purpose\n",
    "    - use\n",
    "* binomial()\n",
    "    - purpose\n",
    "    - use\n",
    "* binomial()\n",
    "    - purpose\n",
    "    - use\n",
    "* dirichlet()\n",
    "    - purpose\n",
    "    - use\n",
    "* exponential()\n",
    "    - purpose\n",
    "    - use\n",
    "\n",
    "### 4. Explain the use of seeds in generating pseudorandom numbers.\n"
   ]
  },
  {
   "cell_type": "code",
   "execution_count": null,
   "metadata": {},
   "outputs": [],
   "source": []
  }
 ],
 "metadata": {
  "kernelspec": {
   "display_name": "Python 3",
   "language": "python",
   "name": "python3"
  },
  "language_info": {
   "codemirror_mode": {
    "name": "ipython",
    "version": 3
   },
   "file_extension": ".py",
   "mimetype": "text/x-python",
   "name": "python",
   "nbconvert_exporter": "python",
   "pygments_lexer": "ipython3",
   "version": "3.8.3"
  }
 },
 "nbformat": 4,
 "nbformat_minor": 4
}
